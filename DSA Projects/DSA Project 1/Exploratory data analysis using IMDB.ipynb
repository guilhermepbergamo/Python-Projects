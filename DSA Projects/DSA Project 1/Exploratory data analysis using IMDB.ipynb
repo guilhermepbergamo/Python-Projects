{
 "cells": [
  {
   "cell_type": "markdown",
   "metadata": {},
   "source": [
    "## Exploratory Data Analysis with Python and SQL Language"
   ]
  },
  {
   "cell_type": "markdown",
   "metadata": {},
   "source": [
    "In this Mini-Project we will present a basic guide to exploratory data analysis using Python Language, SQL Language and SQLite Database. We will use real data, available on <a href=\"https://www.imdb.com/interfaces/\">IMDB</a>.\n",
    "\n",
    "\n",
    "By applying Exploratory Data Analysis we will answer these 10 questions:\n",
    "\n",
    "- 1- What Are the Most Common Movie Categories on IMDB?\n",
    "- 2- How Many Titles By Genre?\n",
    "- 3- What is the Median Rating of Movies by Genre?\n",
    "- 4- What is the Median Rating of Movies Regarding the Year of Premiere?\n",
    "- 5- What is the Number of Movies Rated by Genre in relation to the year of release?\n",
    "- 6- What is the longest running movie?\n",
    "- 7- What is the Relationship Between Duration and Genre?\n",
    "- 8- What is the Number of Movies Produced by Country?\n",
    "- 9- What Are the Top 10 Best Movies?\n",
    "- 10- What are the Top 10 Worst Movies?"
   ]
  },
  {
   "cell_type": "markdown",
   "metadata": {},
   "source": [
    "## Installing and Loading Packages"
   ]
  },
  {
   "cell_type": "code",
   "execution_count": 115,
   "metadata": {},
   "outputs": [
    {
     "name": "stdout",
     "output_type": "stream",
     "text": [
      "Python Language Version Used In This Jupyter Notebook: 3.9.7\n"
     ]
    }
   ],
   "source": [
    "# Python version\n",
    "from platform import python_version\n",
    "print('Python Language Version Used In This Jupyter Notebook:', python_version())"
   ]
  },
  {
   "cell_type": "code",
   "execution_count": 2,
   "metadata": {
    "colab": {
     "base_uri": "https://localhost:8080/"
    },
    "executionInfo": {
     "elapsed": 4275,
     "status": "ok",
     "timestamp": 1622091434937,
     "user": {
      "displayName": "Utkarsh Sinha",
      "photoUrl": "",
      "userId": "11911393678467085382"
     },
     "user_tz": -330
    },
    "id": "XEa1Oqd5t8tX",
    "outputId": "8ac987f5-8bd3-46f1-d5aa-626df31d650f"
   },
   "outputs": [],
   "source": [
    "# Installing package\n",
    "!pip install -q imdb-sqlite"
   ]
  },
  {
   "cell_type": "markdown",
   "metadata": {},
   "source": [
    "Now we run the package to download the datasets."
   ]
  },
  {
   "cell_type": "code",
   "execution_count": 3,
   "metadata": {},
   "outputs": [],
   "source": [
    "# Installing package\n",
    "!pip install -q pycountry"
   ]
  },
  {
   "cell_type": "code",
   "execution_count": 4,
   "metadata": {
    "id": "KwrZ9EWy02p7"
   },
   "outputs": [],
   "source": [
    "# Imports\n",
    "import re\n",
    "import time\n",
    "import sqlite3\n",
    "import pycountry\n",
    "import numpy as np\n",
    "import pandas as pd\n",
    "import matplotlib.pyplot as plt\n",
    "import seaborn as sns\n",
    "from matplotlib import cm\n",
    "from sklearn.feature_extraction.text import CountVectorizer\n",
    "import warnings\n",
    "warnings.filterwarnings(\"ignore\")\n",
    "sns.set_theme(style = \"whitegrid\")"
   ]
  },
  {
   "cell_type": "markdown",
   "metadata": {
    "id": "yebFAbpYviBJ"
   },
   "source": [
    "## Loading the Data"
   ]
  },
  {
   "cell_type": "code",
   "execution_count": null,
   "metadata": {
    "colab": {
     "base_uri": "https://localhost:8080/"
    },
    "executionInfo": {
     "elapsed": 1126675,
     "status": "ok",
     "timestamp": 1622092561602,
     "user": {
      "displayName": "Utkarsh Sinha",
      "photoUrl": "",
      "userId": "11911393678467085382"
     },
     "user_tz": -330
    },
    "id": "18JO-2JAwLf8",
    "outputId": "b4187b50-982a-4376-e43b-e9c6a2e56384"
   },
   "outputs": [],
   "source": [
    "%%time\n",
    "!imdb-sqlite"
   ]
  },
  {
   "cell_type": "code",
   "execution_count": 7,
   "metadata": {
    "id": "GCynwX5SFUt8"
   },
   "outputs": [],
   "source": [
    "# Connect to the database\n",
    "conn = sqlite3.connect(\"imdb.db\")"
   ]
  },
  {
   "cell_type": "code",
   "execution_count": 8,
   "metadata": {
    "id": "ODFg_X23F0Yu"
   },
   "outputs": [],
   "source": [
    "# Extract the list of tables\n",
    "tabelas = pd.read_sql_query(\"SELECT NAME AS 'Table_Name' FROM sqlite_master WHERE type = 'table'\", conn)"
   ]
  },
  {
   "cell_type": "code",
   "execution_count": 9,
   "metadata": {},
   "outputs": [
    {
     "data": {
      "text/plain": [
       "pandas.core.frame.DataFrame"
      ]
     },
     "execution_count": 9,
     "metadata": {},
     "output_type": "execute_result"
    }
   ],
   "source": [
    "# Object type\n",
    "type(tabelas)"
   ]
  },
  {
   "cell_type": "code",
   "execution_count": 10,
   "metadata": {},
   "outputs": [
    {
     "data": {
      "text/html": [
       "<div>\n",
       "<style scoped>\n",
       "    .dataframe tbody tr th:only-of-type {\n",
       "        vertical-align: middle;\n",
       "    }\n",
       "\n",
       "    .dataframe tbody tr th {\n",
       "        vertical-align: top;\n",
       "    }\n",
       "\n",
       "    .dataframe thead th {\n",
       "        text-align: right;\n",
       "    }\n",
       "</style>\n",
       "<table border=\"1\" class=\"dataframe\">\n",
       "  <thead>\n",
       "    <tr style=\"text-align: right;\">\n",
       "      <th></th>\n",
       "      <th>Table_Name</th>\n",
       "    </tr>\n",
       "  </thead>\n",
       "  <tbody>\n",
       "    <tr>\n",
       "      <th>0</th>\n",
       "      <td>people</td>\n",
       "    </tr>\n",
       "    <tr>\n",
       "      <th>1</th>\n",
       "      <td>titles</td>\n",
       "    </tr>\n",
       "    <tr>\n",
       "      <th>2</th>\n",
       "      <td>akas</td>\n",
       "    </tr>\n",
       "    <tr>\n",
       "      <th>3</th>\n",
       "      <td>crew</td>\n",
       "    </tr>\n",
       "    <tr>\n",
       "      <th>4</th>\n",
       "      <td>episodes</td>\n",
       "    </tr>\n",
       "  </tbody>\n",
       "</table>\n",
       "</div>"
      ],
      "text/plain": [
       "  Table_Name\n",
       "0     people\n",
       "1     titles\n",
       "2       akas\n",
       "3       crew\n",
       "4   episodes"
      ]
     },
     "execution_count": 10,
     "metadata": {},
     "output_type": "execute_result"
    }
   ],
   "source": [
    "# View the result\n",
    "tabelas.head()"
   ]
  },
  {
   "cell_type": "code",
   "execution_count": 11,
   "metadata": {},
   "outputs": [],
   "source": [
    "# Converting the dataframe to a list\n",
    "tabelas = tabelas[\"Table_Name\"].values.tolist()"
   ]
  },
  {
   "cell_type": "code",
   "execution_count": 13,
   "metadata": {
    "colab": {
     "base_uri": "https://localhost:8080/",
     "height": 1000
    },
    "executionInfo": {
     "elapsed": 12,
     "status": "ok",
     "timestamp": 1622092916485,
     "user": {
      "displayName": "Utkarsh Sinha",
      "photoUrl": "",
      "userId": "11911393678467085382"
     },
     "user_tz": -330
    },
    "id": "Z2GQyqVgF6gD",
    "outputId": "941eb9c7-df01-4cba-89fa-951252fa7dd7"
   },
   "outputs": [
    {
     "name": "stdout",
     "output_type": "stream",
     "text": [
      "Table schema: people\n"
     ]
    },
    {
     "data": {
      "text/html": [
       "<div>\n",
       "<style scoped>\n",
       "    .dataframe tbody tr th:only-of-type {\n",
       "        vertical-align: middle;\n",
       "    }\n",
       "\n",
       "    .dataframe tbody tr th {\n",
       "        vertical-align: top;\n",
       "    }\n",
       "\n",
       "    .dataframe thead th {\n",
       "        text-align: right;\n",
       "    }\n",
       "</style>\n",
       "<table border=\"1\" class=\"dataframe\">\n",
       "  <thead>\n",
       "    <tr style=\"text-align: right;\">\n",
       "      <th></th>\n",
       "      <th>cid</th>\n",
       "      <th>name</th>\n",
       "      <th>type</th>\n",
       "      <th>notnull</th>\n",
       "      <th>dflt_value</th>\n",
       "      <th>pk</th>\n",
       "    </tr>\n",
       "  </thead>\n",
       "  <tbody>\n",
       "    <tr>\n",
       "      <th>0</th>\n",
       "      <td>0</td>\n",
       "      <td>person_id</td>\n",
       "      <td>VARCHAR</td>\n",
       "      <td>0</td>\n",
       "      <td>None</td>\n",
       "      <td>1</td>\n",
       "    </tr>\n",
       "    <tr>\n",
       "      <th>1</th>\n",
       "      <td>1</td>\n",
       "      <td>name</td>\n",
       "      <td>VARCHAR</td>\n",
       "      <td>0</td>\n",
       "      <td>None</td>\n",
       "      <td>0</td>\n",
       "    </tr>\n",
       "    <tr>\n",
       "      <th>2</th>\n",
       "      <td>2</td>\n",
       "      <td>born</td>\n",
       "      <td>INTEGER</td>\n",
       "      <td>0</td>\n",
       "      <td>None</td>\n",
       "      <td>0</td>\n",
       "    </tr>\n",
       "    <tr>\n",
       "      <th>3</th>\n",
       "      <td>3</td>\n",
       "      <td>died</td>\n",
       "      <td>INTEGER</td>\n",
       "      <td>0</td>\n",
       "      <td>None</td>\n",
       "      <td>0</td>\n",
       "    </tr>\n",
       "  </tbody>\n",
       "</table>\n",
       "</div>"
      ],
      "text/plain": [
       "   cid       name     type  notnull dflt_value  pk\n",
       "0    0  person_id  VARCHAR        0       None   1\n",
       "1    1       name  VARCHAR        0       None   0\n",
       "2    2       born  INTEGER        0       None   0\n",
       "3    3       died  INTEGER        0       None   0"
      ]
     },
     "metadata": {},
     "output_type": "display_data"
    },
    {
     "name": "stdout",
     "output_type": "stream",
     "text": [
      "----------------------------------------------------------------------------------------------------\n",
      "\n",
      "\n",
      "Table schema: titles\n"
     ]
    },
    {
     "data": {
      "text/html": [
       "<div>\n",
       "<style scoped>\n",
       "    .dataframe tbody tr th:only-of-type {\n",
       "        vertical-align: middle;\n",
       "    }\n",
       "\n",
       "    .dataframe tbody tr th {\n",
       "        vertical-align: top;\n",
       "    }\n",
       "\n",
       "    .dataframe thead th {\n",
       "        text-align: right;\n",
       "    }\n",
       "</style>\n",
       "<table border=\"1\" class=\"dataframe\">\n",
       "  <thead>\n",
       "    <tr style=\"text-align: right;\">\n",
       "      <th></th>\n",
       "      <th>cid</th>\n",
       "      <th>name</th>\n",
       "      <th>type</th>\n",
       "      <th>notnull</th>\n",
       "      <th>dflt_value</th>\n",
       "      <th>pk</th>\n",
       "    </tr>\n",
       "  </thead>\n",
       "  <tbody>\n",
       "    <tr>\n",
       "      <th>0</th>\n",
       "      <td>0</td>\n",
       "      <td>title_id</td>\n",
       "      <td>VARCHAR</td>\n",
       "      <td>0</td>\n",
       "      <td>None</td>\n",
       "      <td>1</td>\n",
       "    </tr>\n",
       "    <tr>\n",
       "      <th>1</th>\n",
       "      <td>1</td>\n",
       "      <td>type</td>\n",
       "      <td>VARCHAR</td>\n",
       "      <td>0</td>\n",
       "      <td>None</td>\n",
       "      <td>0</td>\n",
       "    </tr>\n",
       "    <tr>\n",
       "      <th>2</th>\n",
       "      <td>2</td>\n",
       "      <td>primary_title</td>\n",
       "      <td>VARCHAR</td>\n",
       "      <td>0</td>\n",
       "      <td>None</td>\n",
       "      <td>0</td>\n",
       "    </tr>\n",
       "    <tr>\n",
       "      <th>3</th>\n",
       "      <td>3</td>\n",
       "      <td>original_title</td>\n",
       "      <td>VARCHAR</td>\n",
       "      <td>0</td>\n",
       "      <td>None</td>\n",
       "      <td>0</td>\n",
       "    </tr>\n",
       "    <tr>\n",
       "      <th>4</th>\n",
       "      <td>4</td>\n",
       "      <td>is_adult</td>\n",
       "      <td>INTEGER</td>\n",
       "      <td>0</td>\n",
       "      <td>None</td>\n",
       "      <td>0</td>\n",
       "    </tr>\n",
       "    <tr>\n",
       "      <th>5</th>\n",
       "      <td>5</td>\n",
       "      <td>premiered</td>\n",
       "      <td>INTEGER</td>\n",
       "      <td>0</td>\n",
       "      <td>None</td>\n",
       "      <td>0</td>\n",
       "    </tr>\n",
       "    <tr>\n",
       "      <th>6</th>\n",
       "      <td>6</td>\n",
       "      <td>ended</td>\n",
       "      <td>INTEGER</td>\n",
       "      <td>0</td>\n",
       "      <td>None</td>\n",
       "      <td>0</td>\n",
       "    </tr>\n",
       "    <tr>\n",
       "      <th>7</th>\n",
       "      <td>7</td>\n",
       "      <td>runtime_minutes</td>\n",
       "      <td>INTEGER</td>\n",
       "      <td>0</td>\n",
       "      <td>None</td>\n",
       "      <td>0</td>\n",
       "    </tr>\n",
       "    <tr>\n",
       "      <th>8</th>\n",
       "      <td>8</td>\n",
       "      <td>genres</td>\n",
       "      <td>VARCHAR</td>\n",
       "      <td>0</td>\n",
       "      <td>None</td>\n",
       "      <td>0</td>\n",
       "    </tr>\n",
       "  </tbody>\n",
       "</table>\n",
       "</div>"
      ],
      "text/plain": [
       "   cid             name     type  notnull dflt_value  pk\n",
       "0    0         title_id  VARCHAR        0       None   1\n",
       "1    1             type  VARCHAR        0       None   0\n",
       "2    2    primary_title  VARCHAR        0       None   0\n",
       "3    3   original_title  VARCHAR        0       None   0\n",
       "4    4         is_adult  INTEGER        0       None   0\n",
       "5    5        premiered  INTEGER        0       None   0\n",
       "6    6            ended  INTEGER        0       None   0\n",
       "7    7  runtime_minutes  INTEGER        0       None   0\n",
       "8    8           genres  VARCHAR        0       None   0"
      ]
     },
     "metadata": {},
     "output_type": "display_data"
    },
    {
     "name": "stdout",
     "output_type": "stream",
     "text": [
      "----------------------------------------------------------------------------------------------------\n",
      "\n",
      "\n",
      "Table schema: akas\n"
     ]
    },
    {
     "data": {
      "text/html": [
       "<div>\n",
       "<style scoped>\n",
       "    .dataframe tbody tr th:only-of-type {\n",
       "        vertical-align: middle;\n",
       "    }\n",
       "\n",
       "    .dataframe tbody tr th {\n",
       "        vertical-align: top;\n",
       "    }\n",
       "\n",
       "    .dataframe thead th {\n",
       "        text-align: right;\n",
       "    }\n",
       "</style>\n",
       "<table border=\"1\" class=\"dataframe\">\n",
       "  <thead>\n",
       "    <tr style=\"text-align: right;\">\n",
       "      <th></th>\n",
       "      <th>cid</th>\n",
       "      <th>name</th>\n",
       "      <th>type</th>\n",
       "      <th>notnull</th>\n",
       "      <th>dflt_value</th>\n",
       "      <th>pk</th>\n",
       "    </tr>\n",
       "  </thead>\n",
       "  <tbody>\n",
       "    <tr>\n",
       "      <th>0</th>\n",
       "      <td>0</td>\n",
       "      <td>title_id</td>\n",
       "      <td>VARCHAR</td>\n",
       "      <td>0</td>\n",
       "      <td>None</td>\n",
       "      <td>0</td>\n",
       "    </tr>\n",
       "    <tr>\n",
       "      <th>1</th>\n",
       "      <td>1</td>\n",
       "      <td>title</td>\n",
       "      <td>VARCHAR</td>\n",
       "      <td>0</td>\n",
       "      <td>None</td>\n",
       "      <td>0</td>\n",
       "    </tr>\n",
       "    <tr>\n",
       "      <th>2</th>\n",
       "      <td>2</td>\n",
       "      <td>region</td>\n",
       "      <td>VARCHAR</td>\n",
       "      <td>0</td>\n",
       "      <td>None</td>\n",
       "      <td>0</td>\n",
       "    </tr>\n",
       "    <tr>\n",
       "      <th>3</th>\n",
       "      <td>3</td>\n",
       "      <td>language</td>\n",
       "      <td>VARCHAR</td>\n",
       "      <td>0</td>\n",
       "      <td>None</td>\n",
       "      <td>0</td>\n",
       "    </tr>\n",
       "    <tr>\n",
       "      <th>4</th>\n",
       "      <td>4</td>\n",
       "      <td>types</td>\n",
       "      <td>VARCHAR</td>\n",
       "      <td>0</td>\n",
       "      <td>None</td>\n",
       "      <td>0</td>\n",
       "    </tr>\n",
       "    <tr>\n",
       "      <th>5</th>\n",
       "      <td>5</td>\n",
       "      <td>attributes</td>\n",
       "      <td>VARCHAR</td>\n",
       "      <td>0</td>\n",
       "      <td>None</td>\n",
       "      <td>0</td>\n",
       "    </tr>\n",
       "    <tr>\n",
       "      <th>6</th>\n",
       "      <td>6</td>\n",
       "      <td>is_original_title</td>\n",
       "      <td>INTEGER</td>\n",
       "      <td>0</td>\n",
       "      <td>None</td>\n",
       "      <td>0</td>\n",
       "    </tr>\n",
       "  </tbody>\n",
       "</table>\n",
       "</div>"
      ],
      "text/plain": [
       "   cid               name     type  notnull dflt_value  pk\n",
       "0    0           title_id  VARCHAR        0       None   0\n",
       "1    1              title  VARCHAR        0       None   0\n",
       "2    2             region  VARCHAR        0       None   0\n",
       "3    3           language  VARCHAR        0       None   0\n",
       "4    4              types  VARCHAR        0       None   0\n",
       "5    5         attributes  VARCHAR        0       None   0\n",
       "6    6  is_original_title  INTEGER        0       None   0"
      ]
     },
     "metadata": {},
     "output_type": "display_data"
    },
    {
     "name": "stdout",
     "output_type": "stream",
     "text": [
      "----------------------------------------------------------------------------------------------------\n",
      "\n",
      "\n",
      "Table schema: crew\n"
     ]
    },
    {
     "data": {
      "text/html": [
       "<div>\n",
       "<style scoped>\n",
       "    .dataframe tbody tr th:only-of-type {\n",
       "        vertical-align: middle;\n",
       "    }\n",
       "\n",
       "    .dataframe tbody tr th {\n",
       "        vertical-align: top;\n",
       "    }\n",
       "\n",
       "    .dataframe thead th {\n",
       "        text-align: right;\n",
       "    }\n",
       "</style>\n",
       "<table border=\"1\" class=\"dataframe\">\n",
       "  <thead>\n",
       "    <tr style=\"text-align: right;\">\n",
       "      <th></th>\n",
       "      <th>cid</th>\n",
       "      <th>name</th>\n",
       "      <th>type</th>\n",
       "      <th>notnull</th>\n",
       "      <th>dflt_value</th>\n",
       "      <th>pk</th>\n",
       "    </tr>\n",
       "  </thead>\n",
       "  <tbody>\n",
       "    <tr>\n",
       "      <th>0</th>\n",
       "      <td>0</td>\n",
       "      <td>title_id</td>\n",
       "      <td>VARCHAR</td>\n",
       "      <td>0</td>\n",
       "      <td>None</td>\n",
       "      <td>0</td>\n",
       "    </tr>\n",
       "    <tr>\n",
       "      <th>1</th>\n",
       "      <td>1</td>\n",
       "      <td>person_id</td>\n",
       "      <td>VARCHAR</td>\n",
       "      <td>0</td>\n",
       "      <td>None</td>\n",
       "      <td>0</td>\n",
       "    </tr>\n",
       "    <tr>\n",
       "      <th>2</th>\n",
       "      <td>2</td>\n",
       "      <td>category</td>\n",
       "      <td>VARCHAR</td>\n",
       "      <td>0</td>\n",
       "      <td>None</td>\n",
       "      <td>0</td>\n",
       "    </tr>\n",
       "    <tr>\n",
       "      <th>3</th>\n",
       "      <td>3</td>\n",
       "      <td>job</td>\n",
       "      <td>VARCHAR</td>\n",
       "      <td>0</td>\n",
       "      <td>None</td>\n",
       "      <td>0</td>\n",
       "    </tr>\n",
       "    <tr>\n",
       "      <th>4</th>\n",
       "      <td>4</td>\n",
       "      <td>characters</td>\n",
       "      <td>VARCHAR</td>\n",
       "      <td>0</td>\n",
       "      <td>None</td>\n",
       "      <td>0</td>\n",
       "    </tr>\n",
       "  </tbody>\n",
       "</table>\n",
       "</div>"
      ],
      "text/plain": [
       "   cid        name     type  notnull dflt_value  pk\n",
       "0    0    title_id  VARCHAR        0       None   0\n",
       "1    1   person_id  VARCHAR        0       None   0\n",
       "2    2    category  VARCHAR        0       None   0\n",
       "3    3         job  VARCHAR        0       None   0\n",
       "4    4  characters  VARCHAR        0       None   0"
      ]
     },
     "metadata": {},
     "output_type": "display_data"
    },
    {
     "name": "stdout",
     "output_type": "stream",
     "text": [
      "----------------------------------------------------------------------------------------------------\n",
      "\n",
      "\n",
      "Table schema: episodes\n"
     ]
    },
    {
     "data": {
      "text/html": [
       "<div>\n",
       "<style scoped>\n",
       "    .dataframe tbody tr th:only-of-type {\n",
       "        vertical-align: middle;\n",
       "    }\n",
       "\n",
       "    .dataframe tbody tr th {\n",
       "        vertical-align: top;\n",
       "    }\n",
       "\n",
       "    .dataframe thead th {\n",
       "        text-align: right;\n",
       "    }\n",
       "</style>\n",
       "<table border=\"1\" class=\"dataframe\">\n",
       "  <thead>\n",
       "    <tr style=\"text-align: right;\">\n",
       "      <th></th>\n",
       "      <th>cid</th>\n",
       "      <th>name</th>\n",
       "      <th>type</th>\n",
       "      <th>notnull</th>\n",
       "      <th>dflt_value</th>\n",
       "      <th>pk</th>\n",
       "    </tr>\n",
       "  </thead>\n",
       "  <tbody>\n",
       "    <tr>\n",
       "      <th>0</th>\n",
       "      <td>0</td>\n",
       "      <td>episode_title_id</td>\n",
       "      <td>INTEGER</td>\n",
       "      <td>0</td>\n",
       "      <td>None</td>\n",
       "      <td>0</td>\n",
       "    </tr>\n",
       "    <tr>\n",
       "      <th>1</th>\n",
       "      <td>1</td>\n",
       "      <td>show_title_id</td>\n",
       "      <td>INTEGER</td>\n",
       "      <td>0</td>\n",
       "      <td>None</td>\n",
       "      <td>0</td>\n",
       "    </tr>\n",
       "    <tr>\n",
       "      <th>2</th>\n",
       "      <td>2</td>\n",
       "      <td>season_number</td>\n",
       "      <td>INTEGER</td>\n",
       "      <td>0</td>\n",
       "      <td>None</td>\n",
       "      <td>0</td>\n",
       "    </tr>\n",
       "    <tr>\n",
       "      <th>3</th>\n",
       "      <td>3</td>\n",
       "      <td>eposide_number</td>\n",
       "      <td>INTEGER</td>\n",
       "      <td>0</td>\n",
       "      <td>None</td>\n",
       "      <td>0</td>\n",
       "    </tr>\n",
       "  </tbody>\n",
       "</table>\n",
       "</div>"
      ],
      "text/plain": [
       "   cid              name     type  notnull dflt_value  pk\n",
       "0    0  episode_title_id  INTEGER        0       None   0\n",
       "1    1     show_title_id  INTEGER        0       None   0\n",
       "2    2     season_number  INTEGER        0       None   0\n",
       "3    3    eposide_number  INTEGER        0       None   0"
      ]
     },
     "metadata": {},
     "output_type": "display_data"
    },
    {
     "name": "stdout",
     "output_type": "stream",
     "text": [
      "----------------------------------------------------------------------------------------------------\n",
      "\n",
      "\n",
      "Table schema: ratings\n"
     ]
    },
    {
     "data": {
      "text/html": [
       "<div>\n",
       "<style scoped>\n",
       "    .dataframe tbody tr th:only-of-type {\n",
       "        vertical-align: middle;\n",
       "    }\n",
       "\n",
       "    .dataframe tbody tr th {\n",
       "        vertical-align: top;\n",
       "    }\n",
       "\n",
       "    .dataframe thead th {\n",
       "        text-align: right;\n",
       "    }\n",
       "</style>\n",
       "<table border=\"1\" class=\"dataframe\">\n",
       "  <thead>\n",
       "    <tr style=\"text-align: right;\">\n",
       "      <th></th>\n",
       "      <th>cid</th>\n",
       "      <th>name</th>\n",
       "      <th>type</th>\n",
       "      <th>notnull</th>\n",
       "      <th>dflt_value</th>\n",
       "      <th>pk</th>\n",
       "    </tr>\n",
       "  </thead>\n",
       "  <tbody>\n",
       "    <tr>\n",
       "      <th>0</th>\n",
       "      <td>0</td>\n",
       "      <td>title_id</td>\n",
       "      <td>VARCHAR</td>\n",
       "      <td>0</td>\n",
       "      <td>None</td>\n",
       "      <td>1</td>\n",
       "    </tr>\n",
       "    <tr>\n",
       "      <th>1</th>\n",
       "      <td>1</td>\n",
       "      <td>rating</td>\n",
       "      <td>INTEGER</td>\n",
       "      <td>0</td>\n",
       "      <td>None</td>\n",
       "      <td>0</td>\n",
       "    </tr>\n",
       "    <tr>\n",
       "      <th>2</th>\n",
       "      <td>2</td>\n",
       "      <td>votes</td>\n",
       "      <td>INTEGER</td>\n",
       "      <td>0</td>\n",
       "      <td>None</td>\n",
       "      <td>0</td>\n",
       "    </tr>\n",
       "  </tbody>\n",
       "</table>\n",
       "</div>"
      ],
      "text/plain": [
       "   cid      name     type  notnull dflt_value  pk\n",
       "0    0  title_id  VARCHAR        0       None   1\n",
       "1    1    rating  INTEGER        0       None   0\n",
       "2    2     votes  INTEGER        0       None   0"
      ]
     },
     "metadata": {},
     "output_type": "display_data"
    },
    {
     "name": "stdout",
     "output_type": "stream",
     "text": [
      "----------------------------------------------------------------------------------------------------\n",
      "\n",
      "\n"
     ]
    }
   ],
   "source": [
    "# Let's go through the list of tables in the database and extract the schema of each one\n",
    "\n",
    "for tabela in tabelas:\n",
    "    consulta = \"PRAGMA TABLE_INFO({})\".format(tabela)\n",
    "    resultado = pd.read_sql_query(consulta, conn)\n",
    "    print(\"Table schema:\", tabela)\n",
    "    display(resultado)\n",
    "    print(\"-\"*100)\n",
    "    print(\"\\n\")"
   ]
  },
  {
   "cell_type": "markdown",
   "metadata": {},
   "source": [
    "> Now we begin Exploratory Data Analysis."
   ]
  },
  {
   "cell_type": "markdown",
   "metadata": {
    "id": "m6W_XSp3yBSL"
   },
   "source": [
    "## 1- Quais São as Categorias de Filmes Mais Comuns no IMDB?\n",
    "\n",
    "Quais são os principais tipos (categorias) dos títulos (filmes)?"
   ]
  },
  {
   "cell_type": "code",
   "execution_count": 14,
   "metadata": {
    "id": "72tvpOmJGTni"
   },
   "outputs": [],
   "source": [
    "# Create the SQL query\n",
    "consulta1 = '''SELECT type, COUNT(*) AS COUNT FROM titles GROUP BY type''' "
   ]
  },
  {
   "cell_type": "code",
   "execution_count": 15,
   "metadata": {},
   "outputs": [],
   "source": [
    "# Extract the result\n",
    "resultado1 = pd.read_sql_query(consulta1, conn)"
   ]
  },
  {
   "cell_type": "code",
   "execution_count": 16,
   "metadata": {
    "colab": {
     "base_uri": "https://localhost:8080/",
     "height": 343
    },
    "executionInfo": {
     "elapsed": 524,
     "status": "ok",
     "timestamp": 1622092926334,
     "user": {
      "displayName": "Utkarsh Sinha",
      "photoUrl": "",
      "userId": "11911393678467085382"
     },
     "user_tz": -330
    },
    "id": "HYgZRXHyRcK1",
    "outputId": "35c853a5-5780-41ab-f638-35575c8d69fc"
   },
   "outputs": [
    {
     "data": {
      "text/html": [
       "<div>\n",
       "<style scoped>\n",
       "    .dataframe tbody tr th:only-of-type {\n",
       "        vertical-align: middle;\n",
       "    }\n",
       "\n",
       "    .dataframe tbody tr th {\n",
       "        vertical-align: top;\n",
       "    }\n",
       "\n",
       "    .dataframe thead th {\n",
       "        text-align: right;\n",
       "    }\n",
       "</style>\n",
       "<table border=\"1\" class=\"dataframe\">\n",
       "  <thead>\n",
       "    <tr style=\"text-align: right;\">\n",
       "      <th></th>\n",
       "      <th>type</th>\n",
       "      <th>COUNT</th>\n",
       "    </tr>\n",
       "  </thead>\n",
       "  <tbody>\n",
       "    <tr>\n",
       "      <th>0</th>\n",
       "      <td>movie</td>\n",
       "      <td>614995</td>\n",
       "    </tr>\n",
       "    <tr>\n",
       "      <th>1</th>\n",
       "      <td>short</td>\n",
       "      <td>878376</td>\n",
       "    </tr>\n",
       "    <tr>\n",
       "      <th>2</th>\n",
       "      <td>tvEpisode</td>\n",
       "      <td>6813339</td>\n",
       "    </tr>\n",
       "    <tr>\n",
       "      <th>3</th>\n",
       "      <td>tvMiniSeries</td>\n",
       "      <td>44203</td>\n",
       "    </tr>\n",
       "    <tr>\n",
       "      <th>4</th>\n",
       "      <td>tvMovie</td>\n",
       "      <td>136703</td>\n",
       "    </tr>\n",
       "    <tr>\n",
       "      <th>5</th>\n",
       "      <td>tvPilot</td>\n",
       "      <td>2</td>\n",
       "    </tr>\n",
       "    <tr>\n",
       "      <th>6</th>\n",
       "      <td>tvSeries</td>\n",
       "      <td>227853</td>\n",
       "    </tr>\n",
       "    <tr>\n",
       "      <th>7</th>\n",
       "      <td>tvShort</td>\n",
       "      <td>10606</td>\n",
       "    </tr>\n",
       "    <tr>\n",
       "      <th>8</th>\n",
       "      <td>tvSpecial</td>\n",
       "      <td>37573</td>\n",
       "    </tr>\n",
       "    <tr>\n",
       "      <th>9</th>\n",
       "      <td>video</td>\n",
       "      <td>262631</td>\n",
       "    </tr>\n",
       "    <tr>\n",
       "      <th>10</th>\n",
       "      <td>videoGame</td>\n",
       "      <td>31554</td>\n",
       "    </tr>\n",
       "  </tbody>\n",
       "</table>\n",
       "</div>"
      ],
      "text/plain": [
       "            type    COUNT\n",
       "0          movie   614995\n",
       "1          short   878376\n",
       "2      tvEpisode  6813339\n",
       "3   tvMiniSeries    44203\n",
       "4        tvMovie   136703\n",
       "5        tvPilot        2\n",
       "6       tvSeries   227853\n",
       "7        tvShort    10606\n",
       "8      tvSpecial    37573\n",
       "9          video   262631\n",
       "10     videoGame    31554"
      ]
     },
     "metadata": {},
     "output_type": "display_data"
    }
   ],
   "source": [
    "# View the result\n",
    "display(resultado1)"
   ]
  },
  {
   "cell_type": "code",
   "execution_count": 17,
   "metadata": {
    "id": "oUsal5PCh701"
   },
   "outputs": [],
   "source": [
    "# Let's calculate the percentage for each type\n",
    "resultado1['percentual'] = (resultado1['COUNT'] / resultado1['COUNT'].sum()) * 100"
   ]
  },
  {
   "cell_type": "code",
   "execution_count": 18,
   "metadata": {},
   "outputs": [
    {
     "data": {
      "text/html": [
       "<div>\n",
       "<style scoped>\n",
       "    .dataframe tbody tr th:only-of-type {\n",
       "        vertical-align: middle;\n",
       "    }\n",
       "\n",
       "    .dataframe tbody tr th {\n",
       "        vertical-align: top;\n",
       "    }\n",
       "\n",
       "    .dataframe thead th {\n",
       "        text-align: right;\n",
       "    }\n",
       "</style>\n",
       "<table border=\"1\" class=\"dataframe\">\n",
       "  <thead>\n",
       "    <tr style=\"text-align: right;\">\n",
       "      <th></th>\n",
       "      <th>type</th>\n",
       "      <th>COUNT</th>\n",
       "      <th>percentual</th>\n",
       "    </tr>\n",
       "  </thead>\n",
       "  <tbody>\n",
       "    <tr>\n",
       "      <th>0</th>\n",
       "      <td>movie</td>\n",
       "      <td>614995</td>\n",
       "      <td>6.789647</td>\n",
       "    </tr>\n",
       "    <tr>\n",
       "      <th>1</th>\n",
       "      <td>short</td>\n",
       "      <td>878376</td>\n",
       "      <td>9.697417</td>\n",
       "    </tr>\n",
       "    <tr>\n",
       "      <th>2</th>\n",
       "      <td>tvEpisode</td>\n",
       "      <td>6813339</td>\n",
       "      <td>75.220392</td>\n",
       "    </tr>\n",
       "    <tr>\n",
       "      <th>3</th>\n",
       "      <td>tvMiniSeries</td>\n",
       "      <td>44203</td>\n",
       "      <td>0.488008</td>\n",
       "    </tr>\n",
       "    <tr>\n",
       "      <th>4</th>\n",
       "      <td>tvMovie</td>\n",
       "      <td>136703</td>\n",
       "      <td>1.509224</td>\n",
       "    </tr>\n",
       "    <tr>\n",
       "      <th>5</th>\n",
       "      <td>tvPilot</td>\n",
       "      <td>2</td>\n",
       "      <td>0.000022</td>\n",
       "    </tr>\n",
       "    <tr>\n",
       "      <th>6</th>\n",
       "      <td>tvSeries</td>\n",
       "      <td>227853</td>\n",
       "      <td>2.515535</td>\n",
       "    </tr>\n",
       "    <tr>\n",
       "      <th>7</th>\n",
       "      <td>tvShort</td>\n",
       "      <td>10606</td>\n",
       "      <td>0.117092</td>\n",
       "    </tr>\n",
       "    <tr>\n",
       "      <th>8</th>\n",
       "      <td>tvSpecial</td>\n",
       "      <td>37573</td>\n",
       "      <td>0.414812</td>\n",
       "    </tr>\n",
       "    <tr>\n",
       "      <th>9</th>\n",
       "      <td>video</td>\n",
       "      <td>262631</td>\n",
       "      <td>2.899490</td>\n",
       "    </tr>\n",
       "    <tr>\n",
       "      <th>10</th>\n",
       "      <td>videoGame</td>\n",
       "      <td>31554</td>\n",
       "      <td>0.348361</td>\n",
       "    </tr>\n",
       "  </tbody>\n",
       "</table>\n",
       "</div>"
      ],
      "text/plain": [
       "            type    COUNT  percentual\n",
       "0          movie   614995    6.789647\n",
       "1          short   878376    9.697417\n",
       "2      tvEpisode  6813339   75.220392\n",
       "3   tvMiniSeries    44203    0.488008\n",
       "4        tvMovie   136703    1.509224\n",
       "5        tvPilot        2    0.000022\n",
       "6       tvSeries   227853    2.515535\n",
       "7        tvShort    10606    0.117092\n",
       "8      tvSpecial    37573    0.414812\n",
       "9          video   262631    2.899490\n",
       "10     videoGame    31554    0.348361"
      ]
     },
     "metadata": {},
     "output_type": "display_data"
    }
   ],
   "source": [
    "# View the result\n",
    "display(resultado1)"
   ]
  },
  {
   "cell_type": "code",
   "execution_count": 19,
   "metadata": {
    "id": "oWJrmfjHyBpW"
   },
   "outputs": [],
   "source": [
    "# Let's create a chart with only 4 categories:\n",
    "# The 3 categories with the most titles and 1 category with everything else\n",
    "\n",
    "# Create an empty dictionary\n",
    "others = {}\n",
    "\n",
    "# Filtra o percentual em 5% e soma o total\n",
    "others['COUNT'] = resultado1[resultado1['percentual'] < 5]['COUNT'].sum()\n",
    "\n",
    "# Grava o percentual\n",
    "others['percentual'] = resultado1[resultado1['percentual'] < 5]['percentual'].sum()\n",
    "\n",
    "# Set the name\n",
    "others['type'] = 'others'"
   ]
  },
  {
   "cell_type": "code",
   "execution_count": 20,
   "metadata": {},
   "outputs": [
    {
     "data": {
      "text/plain": [
       "{'COUNT': 751125, 'percentual': 8.292544520848526, 'type': 'others'}"
      ]
     },
     "execution_count": 20,
     "metadata": {},
     "output_type": "execute_result"
    }
   ],
   "source": [
    "# View\n",
    "others"
   ]
  },
  {
   "cell_type": "code",
   "execution_count": 21,
   "metadata": {
    "id": "H7WDZkbeyHz7"
   },
   "outputs": [],
   "source": [
    "# \n",
    "Filter the result dataframe\n",
    "resultado1 = resultado1[resultado1['percentual'] > 5]"
   ]
  },
  {
   "cell_type": "code",
   "execution_count": 22,
   "metadata": {},
   "outputs": [],
   "source": [
    "# Append with dataframe from other categories\n",
    "resultado1 = resultado1.append(others, ignore_index = True)"
   ]
  },
  {
   "cell_type": "code",
   "execution_count": 23,
   "metadata": {
    "id": "K5mJGmqMyMaf"
   },
   "outputs": [],
   "source": [
    "# Orders the result\n",
    "resultado1 = resultado1.sort_values(by = 'COUNT', ascending = False)"
   ]
  },
  {
   "cell_type": "code",
   "execution_count": 24,
   "metadata": {},
   "outputs": [
    {
     "data": {
      "text/html": [
       "<div>\n",
       "<style scoped>\n",
       "    .dataframe tbody tr th:only-of-type {\n",
       "        vertical-align: middle;\n",
       "    }\n",
       "\n",
       "    .dataframe tbody tr th {\n",
       "        vertical-align: top;\n",
       "    }\n",
       "\n",
       "    .dataframe thead th {\n",
       "        text-align: right;\n",
       "    }\n",
       "</style>\n",
       "<table border=\"1\" class=\"dataframe\">\n",
       "  <thead>\n",
       "    <tr style=\"text-align: right;\">\n",
       "      <th></th>\n",
       "      <th>type</th>\n",
       "      <th>COUNT</th>\n",
       "      <th>percentual</th>\n",
       "    </tr>\n",
       "  </thead>\n",
       "  <tbody>\n",
       "    <tr>\n",
       "      <th>2</th>\n",
       "      <td>tvEpisode</td>\n",
       "      <td>6813339</td>\n",
       "      <td>75.220392</td>\n",
       "    </tr>\n",
       "    <tr>\n",
       "      <th>1</th>\n",
       "      <td>short</td>\n",
       "      <td>878376</td>\n",
       "      <td>9.697417</td>\n",
       "    </tr>\n",
       "    <tr>\n",
       "      <th>3</th>\n",
       "      <td>others</td>\n",
       "      <td>751125</td>\n",
       "      <td>8.292545</td>\n",
       "    </tr>\n",
       "    <tr>\n",
       "      <th>0</th>\n",
       "      <td>movie</td>\n",
       "      <td>614995</td>\n",
       "      <td>6.789647</td>\n",
       "    </tr>\n",
       "  </tbody>\n",
       "</table>\n",
       "</div>"
      ],
      "text/plain": [
       "        type    COUNT  percentual\n",
       "2  tvEpisode  6813339   75.220392\n",
       "1      short   878376    9.697417\n",
       "3     others   751125    8.292545\n",
       "0      movie   614995    6.789647"
      ]
     },
     "execution_count": 24,
     "metadata": {},
     "output_type": "execute_result"
    }
   ],
   "source": [
    "# View\n",
    "resultado1.head()"
   ]
  },
  {
   "cell_type": "code",
   "execution_count": 25,
   "metadata": {},
   "outputs": [],
   "source": [
    "# Adjust the labels\n",
    "labels = [str(resultado1['type'][i])+' '+'['+str(round(resultado1['percentual'][i],2)) +'%'+']' for i in resultado1.index]"
   ]
  },
  {
   "cell_type": "code",
   "execution_count": 28,
   "metadata": {
    "colab": {
     "base_uri": "https://localhost:8080/",
     "height": 559
    },
    "executionInfo": {
     "elapsed": 7,
     "status": "ok",
     "timestamp": 1621950718639,
     "user": {
      "displayName": "Utkarsh Sinha",
      "photoUrl": "",
      "userId": "11911393678467085382"
     },
     "user_tz": -330
    },
    "id": "2_ugTEy_HmoQ",
    "outputId": "2ea6ea27-e942-4dbf-e358-3305cf88147a"
   },
   "outputs": [
    {
     "data": {
      "image/png": "[encoded data removed]",
      "text/plain": [
       "<Figure size 432x288 with 1 Axes>"
      ]
     },
     "metadata": {},
     "output_type": "display_data"
    }
   ],
   "source": [
    "# Plot\n",
    "\n",
    "# Color map\n",
    "# https://matplotlib.org/stable/tutorials/colors/colormaps.html\n",
    "cs = cm.Set3(np.arange(100))\n",
    "\n",
    "# Create the figure\n",
    "f = plt.figure()\n",
    "\n",
    "# Pie Plot\n",
    "plt.pie(resultado1['COUNT'], labeldistance = 1, radius = 3, colors = cs, wedgeprops = dict(width = 0.8))\n",
    "plt.legend(labels = labels, loc = 'center', prop = {'size':12})\n",
    "plt.title(\"Distribution of Titles\", loc = 'Center', fontdict = {'fontsize':20,'fontweight':20})\n",
    "plt.show()"
   ]
  },
  {
   "cell_type": "markdown",
   "metadata": {
    "id": "CWF1erMywd2w"
   },
   "source": [
    "## 2- How Many Titles By Genre?\n"
   ]
  },
  {
   "cell_type": "code",
   "execution_count": 29,
   "metadata": {
    "colab": {
     "base_uri": "https://localhost:8080/",
     "height": 402
    },
    "executionInfo": {
     "elapsed": 1092,
     "status": "ok",
     "timestamp": 1622093994891,
     "user": {
      "displayName": "Utkarsh Sinha",
      "photoUrl": "",
      "userId": "11911393678467085382"
     },
     "user_tz": -330
    },
    "id": "1oY3-f_ulQmh",
    "outputId": "1c747b58-7a65-48e3-c88d-d4d4641eb983"
   },
   "outputs": [],
   "source": [
    "# Create the SQL query\n",
    "consulta2 = '''SELECT genres, COUNT(*) FROM titles WHERE type = 'movie' GROUP BY genres''' "
   ]
  },
  {
   "cell_type": "code",
   "execution_count": 30,
   "metadata": {},
   "outputs": [],
   "source": [
    "# Result\n",
    "resultado2 = pd.read_sql_query(consulta2, conn)"
   ]
  },
  {
   "cell_type": "code",
   "execution_count": 31,
   "metadata": {},
   "outputs": [
    {
     "data": {
      "text/html": [
       "<div>\n",
       "<style scoped>\n",
       "    .dataframe tbody tr th:only-of-type {\n",
       "        vertical-align: middle;\n",
       "    }\n",
       "\n",
       "    .dataframe tbody tr th {\n",
       "        vertical-align: top;\n",
       "    }\n",
       "\n",
       "    .dataframe thead th {\n",
       "        text-align: right;\n",
       "    }\n",
       "</style>\n",
       "<table border=\"1\" class=\"dataframe\">\n",
       "  <thead>\n",
       "    <tr style=\"text-align: right;\">\n",
       "      <th></th>\n",
       "      <th>genres</th>\n",
       "      <th>COUNT(*)</th>\n",
       "    </tr>\n",
       "  </thead>\n",
       "  <tbody>\n",
       "    <tr>\n",
       "      <th>0</th>\n",
       "      <td>Action</td>\n",
       "      <td>14103</td>\n",
       "    </tr>\n",
       "    <tr>\n",
       "      <th>1</th>\n",
       "      <td>Action,Adult</td>\n",
       "      <td>11</td>\n",
       "    </tr>\n",
       "    <tr>\n",
       "      <th>2</th>\n",
       "      <td>Action,Adult,Adventure</td>\n",
       "      <td>2</td>\n",
       "    </tr>\n",
       "    <tr>\n",
       "      <th>3</th>\n",
       "      <td>Action,Adult,Comedy</td>\n",
       "      <td>5</td>\n",
       "    </tr>\n",
       "    <tr>\n",
       "      <th>4</th>\n",
       "      <td>Action,Adult,Crime</td>\n",
       "      <td>10</td>\n",
       "    </tr>\n",
       "    <tr>\n",
       "      <th>...</th>\n",
       "      <td>...</td>\n",
       "      <td>...</td>\n",
       "    </tr>\n",
       "    <tr>\n",
       "      <th>1465</th>\n",
       "      <td>Thriller,Western</td>\n",
       "      <td>43</td>\n",
       "    </tr>\n",
       "    <tr>\n",
       "      <th>1466</th>\n",
       "      <td>War</td>\n",
       "      <td>1300</td>\n",
       "    </tr>\n",
       "    <tr>\n",
       "      <th>1467</th>\n",
       "      <td>War,Western</td>\n",
       "      <td>14</td>\n",
       "    </tr>\n",
       "    <tr>\n",
       "      <th>1468</th>\n",
       "      <td>Western</td>\n",
       "      <td>5103</td>\n",
       "    </tr>\n",
       "    <tr>\n",
       "      <th>1469</th>\n",
       "      <td>\\N</td>\n",
       "      <td>71629</td>\n",
       "    </tr>\n",
       "  </tbody>\n",
       "</table>\n",
       "<p>1470 rows × 2 columns</p>\n",
       "</div>"
      ],
      "text/plain": [
       "                      genres  COUNT(*)\n",
       "0                     Action     14103\n",
       "1               Action,Adult        11\n",
       "2     Action,Adult,Adventure         2\n",
       "3        Action,Adult,Comedy         5\n",
       "4         Action,Adult,Crime        10\n",
       "...                      ...       ...\n",
       "1465        Thriller,Western        43\n",
       "1466                     War      1300\n",
       "1467             War,Western        14\n",
       "1468                 Western      5103\n",
       "1469                      \\N     71629\n",
       "\n",
       "[1470 rows x 2 columns]"
      ]
     },
     "metadata": {},
     "output_type": "display_data"
    }
   ],
   "source": [
    "# View the result\n",
    "display(resultado2)"
   ]
  },
  {
   "cell_type": "code",
   "execution_count": 32,
   "metadata": {
    "id": "N_4ONbrYwEgW"
   },
   "outputs": [],
   "source": [
    "# Convert strings to lowercase\n",
    "resultado2['genres'] = resultado2['genres'].str.lower().values"
   ]
  },
  {
   "cell_type": "code",
   "execution_count": 33,
   "metadata": {},
   "outputs": [],
   "source": [
    "# Remove NA values (missing)\n",
    "temp = resultado2['genres'].dropna()"
   ]
  },
  {
   "cell_type": "markdown",
   "metadata": {},
   "source": [
    "Using Countvectorizer to convert the genres column into a one-hot encoded vector to count the number of movies in each genre.\n"
   ]
  },
  {
   "cell_type": "code",
   "execution_count": 34,
   "metadata": {},
   "outputs": [],
   "source": [
    "# Let's create an array using regular expression to filter the strings\n",
    "\n",
    "# https://docs.python.org/3.8/library/re.html\n",
    "padrao = '(?u)\\\\b[\\\\w-]+\\\\b'\n",
    "\n",
    "# https://scikit-learn.org/stable/modules/generated/sklearn.feature_extraction.text.CountVectorizer.html\n",
    "vetor = CountVectorizer(token_pattern = padrao, analyzer = 'word').fit(temp)"
   ]
  },
  {
   "cell_type": "code",
   "execution_count": 35,
   "metadata": {},
   "outputs": [
    {
     "data": {
      "text/plain": [
       "sklearn.feature_extraction.text.CountVectorizer"
      ]
     },
     "execution_count": 35,
     "metadata": {},
     "output_type": "execute_result"
    }
   ],
   "source": [
    "type(vetor)"
   ]
  },
  {
   "cell_type": "code",
   "execution_count": 36,
   "metadata": {},
   "outputs": [],
   "source": [
    "# Applies vectorization to dataset without NA values\n",
    "bag_generos = vetor.transform(temp)"
   ]
  },
  {
   "cell_type": "code",
   "execution_count": 37,
   "metadata": {},
   "outputs": [
    {
     "data": {
      "text/plain": [
       "scipy.sparse.csr.csr_matrix"
      ]
     },
     "execution_count": 37,
     "metadata": {},
     "output_type": "execute_result"
    }
   ],
   "source": [
    "type(bag_generos)"
   ]
  },
  {
   "cell_type": "code",
   "execution_count": 38,
   "metadata": {},
   "outputs": [],
   "source": [
    "# Returns unique genres\n",
    "generos_unicos =  vetor.get_feature_names()"
   ]
  },
  {
   "cell_type": "code",
   "execution_count": 39,
   "metadata": {
    "colab": {
     "base_uri": "https://localhost:8080/",
     "height": 497
    },
    "executionInfo": {
     "elapsed": 838,
     "status": "ok",
     "timestamp": 1622094003105,
     "user": {
      "displayName": "Utkarsh Sinha",
      "photoUrl": "",
      "userId": "11911393678467085382"
     },
     "user_tz": -330
    },
    "id": "C_HTLQkbl4r8",
    "outputId": "fe7d141d-a1d6-4dde-8072-ad4cae478ec8"
   },
   "outputs": [],
   "source": [
    "# Create the genres dataframe\n",
    "generos = pd.DataFrame(bag_generos.todense(), columns = generos_unicos, index = temp.index)"
   ]
  },
  {
   "cell_type": "code",
   "execution_count": 40,
   "metadata": {},
   "outputs": [
    {
     "name": "stdout",
     "output_type": "stream",
     "text": [
      "<class 'pandas.core.frame.DataFrame'>\n",
      "Int64Index: 1470 entries, 0 to 1469\n",
      "Data columns (total 29 columns):\n",
      " #   Column       Non-Null Count  Dtype\n",
      "---  ------       --------------  -----\n",
      " 0   action       1470 non-null   int64\n",
      " 1   adult        1470 non-null   int64\n",
      " 2   adventure    1470 non-null   int64\n",
      " 3   animation    1470 non-null   int64\n",
      " 4   biography    1470 non-null   int64\n",
      " 5   comedy       1470 non-null   int64\n",
      " 6   crime        1470 non-null   int64\n",
      " 7   documentary  1470 non-null   int64\n",
      " 8   drama        1470 non-null   int64\n",
      " 9   family       1470 non-null   int64\n",
      " 10  fantasy      1470 non-null   int64\n",
      " 11  film-noir    1470 non-null   int64\n",
      " 12  game-show    1470 non-null   int64\n",
      " 13  history      1470 non-null   int64\n",
      " 14  horror       1470 non-null   int64\n",
      " 15  music        1470 non-null   int64\n",
      " 16  musical      1470 non-null   int64\n",
      " 17  mystery      1470 non-null   int64\n",
      " 18  n            1470 non-null   int64\n",
      " 19  news         1470 non-null   int64\n",
      " 20  reality-tv   1470 non-null   int64\n",
      " 21  romance      1470 non-null   int64\n",
      " 22  sci-fi       1470 non-null   int64\n",
      " 23  short        1470 non-null   int64\n",
      " 24  sport        1470 non-null   int64\n",
      " 25  talk-show    1470 non-null   int64\n",
      " 26  thriller     1470 non-null   int64\n",
      " 27  war          1470 non-null   int64\n",
      " 28  western      1470 non-null   int64\n",
      "dtypes: int64(29)\n",
      "memory usage: 344.5 KB\n"
     ]
    }
   ],
   "source": [
    "# View\n",
    "generos.info()"
   ]
  },
  {
   "cell_type": "code",
   "execution_count": 41,
   "metadata": {},
   "outputs": [],
   "source": [
    "# Drop n column\n",
    "generos = generos.drop(columns = 'n', axis = 0)"
   ]
  },
  {
   "cell_type": "code",
   "execution_count": 42,
   "metadata": {},
   "outputs": [],
   "source": [
    "# Calculate the percentage\n",
    "generos_percentual = 100 * pd.Series(generos.sum()).sort_values(ascending = False) / generos.shape[0]"
   ]
  },
  {
   "cell_type": "code",
   "execution_count": 43,
   "metadata": {},
   "outputs": [
    {
     "data": {
      "text/plain": [
       "drama          17.891156\n",
       "comedy         16.938776\n",
       "documentary    15.782313\n",
       "adventure      14.897959\n",
       "action         14.557823\n",
       "romance        13.265306\n",
       "crime          12.993197\n",
       "mystery        12.380952\n",
       "thriller       12.312925\n",
       "horror         12.176871\n",
       "dtype: float64"
      ]
     },
     "execution_count": 43,
     "metadata": {},
     "output_type": "execute_result"
    }
   ],
   "source": [
    "# View\n",
    "generos_percentual.head(10)"
   ]
  },
  {
   "cell_type": "code",
   "execution_count": 44,
   "metadata": {},
   "outputs": [
    {
     "data": {
      "image/png": "[encoded data removed]",
      "text/plain": [
       "<Figure size 1152x576 with 1 Axes>"
      ]
     },
     "metadata": {},
     "output_type": "display_data"
    }
   ],
   "source": [
    "# Plot\n",
    "plt.figure(figsize = (16,8))\n",
    "sns.barplot(x = generos_percentual.values, y = generos_percentual.index, orient = \"h\", palette = \"terrain\")\n",
    "plt.ylabel('Gênero')             \n",
    "plt.xlabel(\"\\nPercentual de Filmes (%)\")\n",
    "plt.title('\\nNúmero (Percentual) de Títulos Por Gênero\\n')\n",
    "plt.show()"
   ]
  },
  {
   "cell_type": "markdown",
   "metadata": {
    "id": "jRKl5x8YxoXO"
   },
   "source": [
    "## 3- What is the Median Rating of Movies by Genre?"
   ]
  },
  {
   "cell_type": "code",
   "execution_count": 45,
   "metadata": {
    "id": "H6UC4vtt0QQG"
   },
   "outputs": [],
   "source": [
    "# SQL Query\n",
    "consulta3 = '''\n",
    "            SELECT rating, genres FROM \n",
    "            ratings JOIN titles ON ratings.title_id = titles.title_id \n",
    "            WHERE premiered <= 2022 AND type = 'movie'\n",
    "            ''' "
   ]
  },
  {
   "cell_type": "code",
   "execution_count": 46,
   "metadata": {},
   "outputs": [],
   "source": [
    "# Result\n",
    "resultado3 = pd.read_sql_query(consulta3, conn)"
   ]
  },
  {
   "cell_type": "code",
   "execution_count": 47,
   "metadata": {},
   "outputs": [
    {
     "data": {
      "text/html": [
       "<div>\n",
       "<style scoped>\n",
       "    .dataframe tbody tr th:only-of-type {\n",
       "        vertical-align: middle;\n",
       "    }\n",
       "\n",
       "    .dataframe tbody tr th {\n",
       "        vertical-align: top;\n",
       "    }\n",
       "\n",
       "    .dataframe thead th {\n",
       "        text-align: right;\n",
       "    }\n",
       "</style>\n",
       "<table border=\"1\" class=\"dataframe\">\n",
       "  <thead>\n",
       "    <tr style=\"text-align: right;\">\n",
       "      <th></th>\n",
       "      <th>rating</th>\n",
       "      <th>genres</th>\n",
       "    </tr>\n",
       "  </thead>\n",
       "  <tbody>\n",
       "    <tr>\n",
       "      <th>0</th>\n",
       "      <td>4.5</td>\n",
       "      <td>\\N</td>\n",
       "    </tr>\n",
       "    <tr>\n",
       "      <th>1</th>\n",
       "      <td>6.0</td>\n",
       "      <td>Action,Adventure,Biography</td>\n",
       "    </tr>\n",
       "    <tr>\n",
       "      <th>2</th>\n",
       "      <td>4.7</td>\n",
       "      <td>Drama</td>\n",
       "    </tr>\n",
       "    <tr>\n",
       "      <th>3</th>\n",
       "      <td>4.5</td>\n",
       "      <td>Drama</td>\n",
       "    </tr>\n",
       "    <tr>\n",
       "      <th>4</th>\n",
       "      <td>3.9</td>\n",
       "      <td>Drama</td>\n",
       "    </tr>\n",
       "    <tr>\n",
       "      <th>...</th>\n",
       "      <td>...</td>\n",
       "      <td>...</td>\n",
       "    </tr>\n",
       "    <tr>\n",
       "      <th>280542</th>\n",
       "      <td>5.8</td>\n",
       "      <td>Thriller</td>\n",
       "    </tr>\n",
       "    <tr>\n",
       "      <th>280543</th>\n",
       "      <td>6.4</td>\n",
       "      <td>Drama,History</td>\n",
       "    </tr>\n",
       "    <tr>\n",
       "      <th>280544</th>\n",
       "      <td>3.8</td>\n",
       "      <td>Adventure,History,War</td>\n",
       "    </tr>\n",
       "    <tr>\n",
       "      <th>280545</th>\n",
       "      <td>8.3</td>\n",
       "      <td>Drama</td>\n",
       "    </tr>\n",
       "    <tr>\n",
       "      <th>280546</th>\n",
       "      <td>8.4</td>\n",
       "      <td>\\N</td>\n",
       "    </tr>\n",
       "  </tbody>\n",
       "</table>\n",
       "<p>280547 rows × 2 columns</p>\n",
       "</div>"
      ],
      "text/plain": [
       "        rating                      genres\n",
       "0          4.5                          \\N\n",
       "1          6.0  Action,Adventure,Biography\n",
       "2          4.7                       Drama\n",
       "3          4.5                       Drama\n",
       "4          3.9                       Drama\n",
       "...        ...                         ...\n",
       "280542     5.8                    Thriller\n",
       "280543     6.4               Drama,History\n",
       "280544     3.8       Adventure,History,War\n",
       "280545     8.3                       Drama\n",
       "280546     8.4                          \\N\n",
       "\n",
       "[280547 rows x 2 columns]"
      ]
     },
     "metadata": {},
     "output_type": "display_data"
    }
   ],
   "source": [
    "# View\n",
    "display(resultado3)"
   ]
  },
  {
   "cell_type": "code",
   "execution_count": 48,
   "metadata": {
    "id": "W0JWWH6Y19SU"
   },
   "outputs": [],
   "source": [
    "# Let's create a function to return the genres\n",
    "def retorna_generos(df):\n",
    "    df['genres'] = df['genres'].str.lower().values\n",
    "    temp = df['genres'].dropna()\n",
    "    vetor = CountVectorizer(token_pattern = '(?u)\\\\b[\\\\w-]+\\\\b', analyzer = 'word').fit(temp)\n",
    "    generos_unicos =  vetor.get_feature_names()\n",
    "    generos_unicos = [genre for genre in generos_unicos if len(genre) > 1]\n",
    "    return generos_unicos"
   ]
  },
  {
   "cell_type": "code",
   "execution_count": 49,
   "metadata": {},
   "outputs": [],
   "source": [
    "# Applies the function\n",
    "generos_unicos = retorna_generos(resultado3)"
   ]
  },
  {
   "cell_type": "code",
   "execution_count": 50,
   "metadata": {},
   "outputs": [
    {
     "data": {
      "text/plain": [
       "['action',\n",
       " 'adult',\n",
       " 'adventure',\n",
       " 'animation',\n",
       " 'biography',\n",
       " 'comedy',\n",
       " 'crime',\n",
       " 'documentary',\n",
       " 'drama',\n",
       " 'family',\n",
       " 'fantasy',\n",
       " 'film-noir',\n",
       " 'game-show',\n",
       " 'history',\n",
       " 'horror',\n",
       " 'music',\n",
       " 'musical',\n",
       " 'mystery',\n",
       " 'news',\n",
       " 'reality-tv',\n",
       " 'romance',\n",
       " 'sci-fi',\n",
       " 'short',\n",
       " 'sport',\n",
       " 'talk-show',\n",
       " 'thriller',\n",
       " 'war',\n",
       " 'western']"
      ]
     },
     "execution_count": 50,
     "metadata": {},
     "output_type": "execute_result"
    }
   ],
   "source": [
    "# View\n",
    "generos_unicos"
   ]
  },
  {
   "cell_type": "code",
   "execution_count": 51,
   "metadata": {},
   "outputs": [],
   "source": [
    "# Create empty lists\n",
    "genero_counts = []\n",
    "genero_ratings = []"
   ]
  },
  {
   "cell_type": "code",
   "execution_count": 52,
   "metadata": {
    "id": "Iggq_inu9QJz"
   },
   "outputs": [],
   "source": [
    "# Loop\n",
    "for item in generos_unicos:\n",
    "    \n",
    "    # Returns movie count by genre\n",
    "    consulta = 'SELECT COUNT(rating) FROM ratings JOIN titles ON ratings.title_id=titles.title_id WHERE genres LIKE '+ '\\''+'%'+item+'%'+'\\' AND type=\\'movie\\''\n",
    "    resultado = pd.read_sql_query(consulta, conn)\n",
    "    genero_counts.append(resultado.values[0][0])\n",
    "  \n",
    "     # Returns movie rating by genre\n",
    "    consulta = 'SELECT rating FROM ratings JOIN titles ON ratings.title_id=titles.title_id WHERE genres LIKE '+ '\\''+'%'+item+'%'+'\\' AND type=\\'movie\\''\n",
    "    resultado = pd.read_sql_query(consulta, conn)\n",
    "    genero_ratings.append(np.median(resultado['rating']))"
   ]
  },
  {
   "cell_type": "code",
   "execution_count": 53,
   "metadata": {
    "id": "E4lGTLpfQStn"
   },
   "outputs": [],
   "source": [
    "# Prepare the final dataframe\n",
    "df_genero_ratings = pd.DataFrame()\n",
    "df_genero_ratings['genres'] = generos_unicos\n",
    "df_genero_ratings['count'] = genero_counts\n",
    "df_genero_ratings['rating'] = genero_ratings"
   ]
  },
  {
   "cell_type": "code",
   "execution_count": 54,
   "metadata": {},
   "outputs": [
    {
     "data": {
      "text/html": [
       "<div>\n",
       "<style scoped>\n",
       "    .dataframe tbody tr th:only-of-type {\n",
       "        vertical-align: middle;\n",
       "    }\n",
       "\n",
       "    .dataframe tbody tr th {\n",
       "        vertical-align: top;\n",
       "    }\n",
       "\n",
       "    .dataframe thead th {\n",
       "        text-align: right;\n",
       "    }\n",
       "</style>\n",
       "<table border=\"1\" class=\"dataframe\">\n",
       "  <thead>\n",
       "    <tr style=\"text-align: right;\">\n",
       "      <th></th>\n",
       "      <th>genres</th>\n",
       "      <th>count</th>\n",
       "      <th>rating</th>\n",
       "    </tr>\n",
       "  </thead>\n",
       "  <tbody>\n",
       "    <tr>\n",
       "      <th>0</th>\n",
       "      <td>action</td>\n",
       "      <td>29109</td>\n",
       "      <td>5.80</td>\n",
       "    </tr>\n",
       "    <tr>\n",
       "      <th>1</th>\n",
       "      <td>adult</td>\n",
       "      <td>4392</td>\n",
       "      <td>5.80</td>\n",
       "    </tr>\n",
       "    <tr>\n",
       "      <th>2</th>\n",
       "      <td>adventure</td>\n",
       "      <td>17614</td>\n",
       "      <td>6.00</td>\n",
       "    </tr>\n",
       "    <tr>\n",
       "      <th>3</th>\n",
       "      <td>animation</td>\n",
       "      <td>4817</td>\n",
       "      <td>6.50</td>\n",
       "    </tr>\n",
       "    <tr>\n",
       "      <th>4</th>\n",
       "      <td>biography</td>\n",
       "      <td>8560</td>\n",
       "      <td>7.00</td>\n",
       "    </tr>\n",
       "    <tr>\n",
       "      <th>5</th>\n",
       "      <td>comedy</td>\n",
       "      <td>69298</td>\n",
       "      <td>6.00</td>\n",
       "    </tr>\n",
       "    <tr>\n",
       "      <th>6</th>\n",
       "      <td>crime</td>\n",
       "      <td>23992</td>\n",
       "      <td>6.10</td>\n",
       "    </tr>\n",
       "    <tr>\n",
       "      <th>7</th>\n",
       "      <td>documentary</td>\n",
       "      <td>42077</td>\n",
       "      <td>7.30</td>\n",
       "    </tr>\n",
       "    <tr>\n",
       "      <th>8</th>\n",
       "      <td>drama</td>\n",
       "      <td>124215</td>\n",
       "      <td>6.30</td>\n",
       "    </tr>\n",
       "    <tr>\n",
       "      <th>9</th>\n",
       "      <td>family</td>\n",
       "      <td>10828</td>\n",
       "      <td>6.30</td>\n",
       "    </tr>\n",
       "    <tr>\n",
       "      <th>10</th>\n",
       "      <td>fantasy</td>\n",
       "      <td>8331</td>\n",
       "      <td>6.00</td>\n",
       "    </tr>\n",
       "    <tr>\n",
       "      <th>11</th>\n",
       "      <td>film-noir</td>\n",
       "      <td>783</td>\n",
       "      <td>6.50</td>\n",
       "    </tr>\n",
       "    <tr>\n",
       "      <th>12</th>\n",
       "      <td>game-show</td>\n",
       "      <td>6</td>\n",
       "      <td>5.95</td>\n",
       "    </tr>\n",
       "    <tr>\n",
       "      <th>13</th>\n",
       "      <td>history</td>\n",
       "      <td>7762</td>\n",
       "      <td>6.90</td>\n",
       "    </tr>\n",
       "    <tr>\n",
       "      <th>14</th>\n",
       "      <td>horror</td>\n",
       "      <td>19942</td>\n",
       "      <td>5.00</td>\n",
       "    </tr>\n",
       "    <tr>\n",
       "      <th>15</th>\n",
       "      <td>music</td>\n",
       "      <td>12759</td>\n",
       "      <td>6.50</td>\n",
       "    </tr>\n",
       "    <tr>\n",
       "      <th>16</th>\n",
       "      <td>musical</td>\n",
       "      <td>6281</td>\n",
       "      <td>6.20</td>\n",
       "    </tr>\n",
       "    <tr>\n",
       "      <th>17</th>\n",
       "      <td>mystery</td>\n",
       "      <td>10496</td>\n",
       "      <td>5.90</td>\n",
       "    </tr>\n",
       "    <tr>\n",
       "      <th>18</th>\n",
       "      <td>news</td>\n",
       "      <td>661</td>\n",
       "      <td>7.30</td>\n",
       "    </tr>\n",
       "    <tr>\n",
       "      <th>19</th>\n",
       "      <td>reality-tv</td>\n",
       "      <td>49</td>\n",
       "      <td>6.20</td>\n",
       "    </tr>\n",
       "  </tbody>\n",
       "</table>\n",
       "</div>"
      ],
      "text/plain": [
       "         genres   count  rating\n",
       "0        action   29109    5.80\n",
       "1         adult    4392    5.80\n",
       "2     adventure   17614    6.00\n",
       "3     animation    4817    6.50\n",
       "4     biography    8560    7.00\n",
       "5        comedy   69298    6.00\n",
       "6         crime   23992    6.10\n",
       "7   documentary   42077    7.30\n",
       "8         drama  124215    6.30\n",
       "9        family   10828    6.30\n",
       "10      fantasy    8331    6.00\n",
       "11    film-noir     783    6.50\n",
       "12    game-show       6    5.95\n",
       "13      history    7762    6.90\n",
       "14       horror   19942    5.00\n",
       "15        music   12759    6.50\n",
       "16      musical    6281    6.20\n",
       "17      mystery   10496    5.90\n",
       "18         news     661    7.30\n",
       "19   reality-tv      49    6.20"
      ]
     },
     "execution_count": 54,
     "metadata": {},
     "output_type": "execute_result"
    }
   ],
   "source": [
    "# View\n",
    "df_genero_ratings.head(20)"
   ]
  },
  {
   "cell_type": "code",
   "execution_count": 55,
   "metadata": {
    "id": "h0voA1yQQ_80"
   },
   "outputs": [],
   "source": [
    "# Drop index 18 (news)\n",
    "df_genero_ratings = df_genero_ratings.drop(index = 18)"
   ]
  },
  {
   "cell_type": "code",
   "execution_count": 56,
   "metadata": {
    "id": "C2d5HNJITbaG"
   },
   "outputs": [],
   "source": [
    "# Order the result\n",
    "df_genero_ratings = df_genero_ratings.sort_values(by = 'rating', ascending = False)"
   ]
  },
  {
   "cell_type": "code",
   "execution_count": 58,
   "metadata": {
    "colab": {
     "base_uri": "https://localhost:8080/",
     "height": 497
    },
    "executionInfo": {
     "elapsed": 2327,
     "status": "ok",
     "timestamp": 1622094283855,
     "user": {
      "displayName": "Utkarsh Sinha",
      "photoUrl": "",
      "userId": "11911393678467085382"
     },
     "user_tz": -330
    },
    "id": "MSrgVMHuUAAV",
    "outputId": "cd8a7363-3fab-42c7-eea3-c734e621904b"
   },
   "outputs": [
    {
     "data": {
      "image/png": "[encoded data removed]",
      "text/plain": [
       "<Figure size 1152x720 with 1 Axes>"
      ]
     },
     "metadata": {},
     "output_type": "display_data"
    }
   ],
   "source": [
    "# Plot\n",
    "\n",
    "# Figure\n",
    "plt.figure(figsize = (16,10))\n",
    "\n",
    "# Barplot\n",
    "sns.barplot(y = df_genero_ratings.genres, x = df_genero_ratings.rating, orient = \"h\")\n",
    "\n",
    "# Graph texts\n",
    "for i in range(len(df_genero_ratings.index)):\n",
    "    \n",
    "    plt.text(4.0, \n",
    "             i + 0.25, \n",
    "             str(df_genero_ratings['count'][df_genero_ratings.index[i]]) + \" filmes\")\n",
    "    \n",
    "    plt.text(df_genero_ratings.rating[df_genero_ratings.index[i]],\n",
    "             i + 0.25,\n",
    "             round(df_genero_ratings[\"rating\"][df_genero_ratings.index[i]],2))\n",
    "\n",
    "plt.ylabel('Genre')             \n",
    "plt.xlabel('Median of the Evaluation')\n",
    "plt.title('\\nMedian Rating By Gender\\n')\n",
    "plt.show()"
   ]
  },
  {
   "cell_type": "markdown",
   "metadata": {
    "id": "V4RFdmlvsbgQ"
   },
   "source": [
    "## 4-  What is the Median Rating of Movies Regarding the Year of Premiere?"
   ]
  },
  {
   "cell_type": "code",
   "execution_count": 59,
   "metadata": {
    "colab": {
     "base_uri": "https://localhost:8080/",
     "height": 402
    },
    "executionInfo": {
     "elapsed": 1283,
     "status": "ok",
     "timestamp": 1622094463416,
     "user": {
      "displayName": "Utkarsh Sinha",
      "photoUrl": "",
      "userId": "11911393678467085382"
     },
     "user_tz": -330
    },
    "id": "D7ZoVPJip0eA",
    "outputId": "8ab5db2f-ccd4-49c0-8eba-0da45d2e9812"
   },
   "outputs": [],
   "source": [
    "# SQL Query\n",
    "consulta4 = '''\n",
    "            SELECT rating AS Rating, premiered FROM \n",
    "            ratings JOIN titles ON ratings.title_id = titles.title_id \n",
    "            WHERE premiered <= 2022 AND type = 'movie'\n",
    "            ORDER BY premiered\n",
    "            ''' "
   ]
  },
  {
   "cell_type": "code",
   "execution_count": 60,
   "metadata": {},
   "outputs": [],
   "source": [
    "# Result\n",
    "resultado4 = pd.read_sql_query(consulta4, conn)"
   ]
  },
  {
   "cell_type": "code",
   "execution_count": 61,
   "metadata": {},
   "outputs": [
    {
     "data": {
      "text/html": [
       "<div>\n",
       "<style scoped>\n",
       "    .dataframe tbody tr th:only-of-type {\n",
       "        vertical-align: middle;\n",
       "    }\n",
       "\n",
       "    .dataframe tbody tr th {\n",
       "        vertical-align: top;\n",
       "    }\n",
       "\n",
       "    .dataframe thead th {\n",
       "        text-align: right;\n",
       "    }\n",
       "</style>\n",
       "<table border=\"1\" class=\"dataframe\">\n",
       "  <thead>\n",
       "    <tr style=\"text-align: right;\">\n",
       "      <th></th>\n",
       "      <th>Rating</th>\n",
       "      <th>premiered</th>\n",
       "    </tr>\n",
       "  </thead>\n",
       "  <tbody>\n",
       "    <tr>\n",
       "      <th>0</th>\n",
       "      <td>6.7</td>\n",
       "      <td>1896</td>\n",
       "    </tr>\n",
       "    <tr>\n",
       "      <th>1</th>\n",
       "      <td>4.5</td>\n",
       "      <td>1897</td>\n",
       "    </tr>\n",
       "    <tr>\n",
       "      <th>2</th>\n",
       "      <td>4.0</td>\n",
       "      <td>1899</td>\n",
       "    </tr>\n",
       "    <tr>\n",
       "      <th>3</th>\n",
       "      <td>3.7</td>\n",
       "      <td>1899</td>\n",
       "    </tr>\n",
       "    <tr>\n",
       "      <th>4</th>\n",
       "      <td>6.0</td>\n",
       "      <td>1900</td>\n",
       "    </tr>\n",
       "    <tr>\n",
       "      <th>...</th>\n",
       "      <td>...</td>\n",
       "      <td>...</td>\n",
       "    </tr>\n",
       "    <tr>\n",
       "      <th>280542</th>\n",
       "      <td>9.5</td>\n",
       "      <td>2022</td>\n",
       "    </tr>\n",
       "    <tr>\n",
       "      <th>280543</th>\n",
       "      <td>7.8</td>\n",
       "      <td>2022</td>\n",
       "    </tr>\n",
       "    <tr>\n",
       "      <th>280544</th>\n",
       "      <td>6.8</td>\n",
       "      <td>2022</td>\n",
       "    </tr>\n",
       "    <tr>\n",
       "      <th>280545</th>\n",
       "      <td>5.0</td>\n",
       "      <td>2022</td>\n",
       "    </tr>\n",
       "    <tr>\n",
       "      <th>280546</th>\n",
       "      <td>3.7</td>\n",
       "      <td>2022</td>\n",
       "    </tr>\n",
       "  </tbody>\n",
       "</table>\n",
       "<p>280547 rows × 2 columns</p>\n",
       "</div>"
      ],
      "text/plain": [
       "        Rating  premiered\n",
       "0          6.7       1896\n",
       "1          4.5       1897\n",
       "2          4.0       1899\n",
       "3          3.7       1899\n",
       "4          6.0       1900\n",
       "...        ...        ...\n",
       "280542     9.5       2022\n",
       "280543     7.8       2022\n",
       "280544     6.8       2022\n",
       "280545     5.0       2022\n",
       "280546     3.7       2022\n",
       "\n",
       "[280547 rows x 2 columns]"
      ]
     },
     "metadata": {},
     "output_type": "display_data"
    }
   ],
   "source": [
    "display(resultado4)"
   ]
  },
  {
   "cell_type": "code",
   "execution_count": 62,
   "metadata": {
    "id": "MC6R8jw-XWZj"
   },
   "outputs": [],
   "source": [
    "# We calculate the median over time (years)\n",
    "ratings = []\n",
    "for year in set(resultado4['premiered']):\n",
    "    ratings.append(np.median(resultado4[resultado4['premiered'] == year]['Rating']))"
   ]
  },
  {
   "cell_type": "code",
   "execution_count": 63,
   "metadata": {},
   "outputs": [
    {
     "data": {
      "text/plain": [
       "list"
      ]
     },
     "execution_count": 63,
     "metadata": {},
     "output_type": "execute_result"
    }
   ],
   "source": [
    "type(ratings)"
   ]
  },
  {
   "cell_type": "code",
   "execution_count": 64,
   "metadata": {},
   "outputs": [
    {
     "data": {
      "text/plain": [
       "[4.5, 3.85, 5.85, 6.2, 3.4, 4.6, 5.3, 4.55, 3.6]"
      ]
     },
     "execution_count": 64,
     "metadata": {},
     "output_type": "execute_result"
    }
   ],
   "source": [
    "ratings[1:10]"
   ]
  },
  {
   "cell_type": "code",
   "execution_count": 65,
   "metadata": {
    "id": "VV_YECfDYLkU"
   },
   "outputs": [],
   "source": [
    "# List of years\n",
    "anos = list(set(resultado4['premiered']))"
   ]
  },
  {
   "cell_type": "code",
   "execution_count": 66,
   "metadata": {},
   "outputs": [
    {
     "data": {
      "text/plain": [
       "[1897, 1899, 1900, 1901, 1902, 1903, 1904, 1905, 1906]"
      ]
     },
     "execution_count": 66,
     "metadata": {},
     "output_type": "execute_result"
    }
   ],
   "source": [
    "anos[1:10]"
   ]
  },
  {
   "cell_type": "code",
   "execution_count": 69,
   "metadata": {
    "colab": {
     "base_uri": "https://localhost:8080/",
     "height": 513
    },
    "executionInfo": {
     "elapsed": 830,
     "status": "ok",
     "timestamp": 1622094760127,
     "user": {
      "displayName": "Utkarsh Sinha",
      "photoUrl": "",
      "userId": "11911393678467085382"
     },
     "user_tz": -330
    },
    "id": "o-DcxevEspQQ",
    "outputId": "e3770997-6254-4e5c-a60f-e8cc665e9674"
   },
   "outputs": [
    {
     "data": {
      "image/png": "[encoded data removed]",
      "text/plain": [
       "<Figure size 1152x576 with 1 Axes>"
      ]
     },
     "metadata": {},
     "output_type": "display_data"
    }
   ],
   "source": [
    "# Plot\n",
    "plt.figure(figsize = (16,8))\n",
    "plt.plot(anos, ratings)\n",
    "plt.xlabel('\\nYear')\n",
    "plt.ylabel('Median of Evaluation')\n",
    "plt.title('\\nMedian Rating of Movies Regarding the Year of Premiere\\n')\n",
    "plt.show()"
   ]
  },
  {
   "cell_type": "markdown",
   "metadata": {
    "id": "2F2Dmji2xR9v"
   },
   "source": [
    "## 5- What is the Number of Movies Rated by Genre in relation to the year of release?"
   ]
  },
  {
   "cell_type": "code",
   "execution_count": 70,
   "metadata": {
    "id": "eHdCbIyDm10W"
   },
   "outputs": [],
   "source": [
    "# SQL Query\n",
    "consulta5 = '''SELECT genres FROM titles ''' "
   ]
  },
  {
   "cell_type": "code",
   "execution_count": 71,
   "metadata": {},
   "outputs": [],
   "source": [
    "# Result\n",
    "resultado5 = pd.read_sql_query(consulta5, conn)"
   ]
  },
  {
   "cell_type": "code",
   "execution_count": 72,
   "metadata": {},
   "outputs": [
    {
     "data": {
      "text/html": [
       "<div>\n",
       "<style scoped>\n",
       "    .dataframe tbody tr th:only-of-type {\n",
       "        vertical-align: middle;\n",
       "    }\n",
       "\n",
       "    .dataframe tbody tr th {\n",
       "        vertical-align: top;\n",
       "    }\n",
       "\n",
       "    .dataframe thead th {\n",
       "        text-align: right;\n",
       "    }\n",
       "</style>\n",
       "<table border=\"1\" class=\"dataframe\">\n",
       "  <thead>\n",
       "    <tr style=\"text-align: right;\">\n",
       "      <th></th>\n",
       "      <th>genres</th>\n",
       "    </tr>\n",
       "  </thead>\n",
       "  <tbody>\n",
       "    <tr>\n",
       "      <th>0</th>\n",
       "      <td>Documentary,Short</td>\n",
       "    </tr>\n",
       "    <tr>\n",
       "      <th>1</th>\n",
       "      <td>Animation,Short</td>\n",
       "    </tr>\n",
       "    <tr>\n",
       "      <th>2</th>\n",
       "      <td>Animation,Comedy,Romance</td>\n",
       "    </tr>\n",
       "    <tr>\n",
       "      <th>3</th>\n",
       "      <td>Animation,Short</td>\n",
       "    </tr>\n",
       "    <tr>\n",
       "      <th>4</th>\n",
       "      <td>Comedy,Short</td>\n",
       "    </tr>\n",
       "    <tr>\n",
       "      <th>...</th>\n",
       "      <td>...</td>\n",
       "    </tr>\n",
       "    <tr>\n",
       "      <th>9057830</th>\n",
       "      <td>Action,Drama,Family</td>\n",
       "    </tr>\n",
       "    <tr>\n",
       "      <th>9057831</th>\n",
       "      <td>Action,Drama,Family</td>\n",
       "    </tr>\n",
       "    <tr>\n",
       "      <th>9057832</th>\n",
       "      <td>Action,Drama,Family</td>\n",
       "    </tr>\n",
       "    <tr>\n",
       "      <th>9057833</th>\n",
       "      <td>Short</td>\n",
       "    </tr>\n",
       "    <tr>\n",
       "      <th>9057834</th>\n",
       "      <td>Adventure,Animation,Comedy</td>\n",
       "    </tr>\n",
       "  </tbody>\n",
       "</table>\n",
       "<p>9057835 rows × 1 columns</p>\n",
       "</div>"
      ],
      "text/plain": [
       "                             genres\n",
       "0                 Documentary,Short\n",
       "1                   Animation,Short\n",
       "2          Animation,Comedy,Romance\n",
       "3                   Animation,Short\n",
       "4                      Comedy,Short\n",
       "...                             ...\n",
       "9057830         Action,Drama,Family\n",
       "9057831         Action,Drama,Family\n",
       "9057832         Action,Drama,Family\n",
       "9057833                       Short\n",
       "9057834  Adventure,Animation,Comedy\n",
       "\n",
       "[9057835 rows x 1 columns]"
      ]
     },
     "metadata": {},
     "output_type": "display_data"
    }
   ],
   "source": [
    "display(resultado5)"
   ]
  },
  {
   "cell_type": "code",
   "execution_count": 73,
   "metadata": {
    "id": "3l9aiHCLvI5S"
   },
   "outputs": [],
   "source": [
    "# Returns unique genres\n",
    "generos_unicos = retorna_generos(resultado5)"
   ]
  },
  {
   "cell_type": "code",
   "execution_count": 74,
   "metadata": {},
   "outputs": [
    {
     "data": {
      "text/plain": [
       "['action',\n",
       " 'adult',\n",
       " 'adventure',\n",
       " 'animation',\n",
       " 'biography',\n",
       " 'comedy',\n",
       " 'crime',\n",
       " 'documentary',\n",
       " 'drama',\n",
       " 'family',\n",
       " 'fantasy',\n",
       " 'film-noir',\n",
       " 'game-show',\n",
       " 'history',\n",
       " 'horror',\n",
       " 'music',\n",
       " 'musical',\n",
       " 'mystery',\n",
       " 'news',\n",
       " 'reality-tv',\n",
       " 'romance',\n",
       " 'sci-fi',\n",
       " 'short',\n",
       " 'sport',\n",
       " 'talk-show',\n",
       " 'thriller',\n",
       " 'war',\n",
       " 'western']"
      ]
     },
     "execution_count": 74,
     "metadata": {},
     "output_type": "execute_result"
    }
   ],
   "source": [
    "# View the result\n",
    "generos_unicos"
   ]
  },
  {
   "cell_type": "code",
   "execution_count": 75,
   "metadata": {
    "id": "IvXAi1HGf7X8"
   },
   "outputs": [],
   "source": [
    "# Now doing the count\n",
    "genero_count = []\n",
    "for item in generos_unicos:\n",
    "    consulta = 'SELECT COUNT(*) COUNT FROM  titles  WHERE genres LIKE '+ '\\''+'%'+item+'%'+'\\' AND type=\\'movie\\' AND premiered <= 2022'\n",
    "    resultado = pd.read_sql_query(consulta, conn)\n",
    "    genero_count.append(resultado['COUNT'].values[0])"
   ]
  },
  {
   "cell_type": "code",
   "execution_count": 76,
   "metadata": {
    "id": "6ASveNmFf9aI"
   },
   "outputs": [],
   "source": [
    "# Prepararing the dataframe\n",
    "df_genero_count = pd.DataFrame()\n",
    "df_genero_count['genre'] = generos_unicos\n",
    "df_genero_count['Count'] = genero_count"
   ]
  },
  {
   "cell_type": "code",
   "execution_count": 77,
   "metadata": {
    "id": "938c_uY-kDiW"
   },
   "outputs": [],
   "source": [
    "# Calculate the top 5\n",
    "df_genero_count = df_genero_count[df_genero_count['genre'] != 'n']\n",
    "df_genero_count = df_genero_count.sort_values(by = 'Count', ascending = False)\n",
    "top_generos = df_genero_count.head()['genre'].values"
   ]
  },
  {
   "cell_type": "code",
   "execution_count": 78,
   "metadata": {
    "colab": {
     "base_uri": "https://localhost:8080/",
     "height": 499
    },
    "executionInfo": {
     "elapsed": 4708,
     "status": "ok",
     "timestamp": 1621951784338,
     "user": {
      "displayName": "Utkarsh Sinha",
      "photoUrl": "",
      "userId": "11911393678467085382"
     },
     "user_tz": -330
    },
    "id": "8aP0rOP0mBh_",
    "outputId": "8604eb15-1809-48e6-9772-6e5c34e0624c"
   },
   "outputs": [
    {
     "data": {
      "image/png": "[encoded data removed]",
      "text/plain": [
       "<Figure size 1152x576 with 1 Axes>"
      ]
     },
     "metadata": {},
     "output_type": "display_data"
    }
   ],
   "source": [
    "# Plot\n",
    "\n",
    "# Figure\n",
    "plt.figure(figsize = (16,8))\n",
    "\n",
    "# Loop and Plot\n",
    "for item in top_generos:\n",
    "    consulta = 'SELECT COUNT(*) Number_of_movies, premiered Year FROM  titles  WHERE genres LIKE '+ '\\''+'%'+item+'%'+'\\' AND type=\\'movie\\' AND Year <=2022 GROUP BY Year'\n",
    "    resultado = pd.read_sql_query(consulta, conn)\n",
    "    plt.plot(resultado['Year'], resultado['Number_of_movies'])\n",
    "\n",
    "plt.xlabel('\\nYear')\n",
    "plt.ylabel('Number of Rated Movies')\n",
    "plt.title('\\nNumber of Movies Evaluated by Genre Regarding the Year of Premiere\\n')\n",
    "plt.legend(labels = top_generos)\n",
    "plt.show()"
   ]
  },
  {
   "cell_type": "markdown",
   "metadata": {
    "id": "9U6CKRVVzF5O"
   },
   "source": [
    "## 6- What is the longest running movie? Calculate the percentiles.\n",
    "\n",
    "Percentiles and longest movie in history."
   ]
  },
  {
   "cell_type": "code",
   "execution_count": 79,
   "metadata": {
    "id": "0emEVWQcZAkB"
   },
   "outputs": [],
   "source": [
    "# SQL Query\n",
    "consulta6 = '''\n",
    "            SELECT runtime_minutes Runtime \n",
    "            FROM titles \n",
    "            WHERE type = 'movie' AND Runtime != 'NaN'\n",
    "            ''' "
   ]
  },
  {
   "cell_type": "code",
   "execution_count": 80,
   "metadata": {},
   "outputs": [],
   "source": [
    "# Result\n",
    "resultado6 = pd.read_sql_query(consulta6, conn)"
   ]
  },
  {
   "cell_type": "code",
   "execution_count": 81,
   "metadata": {},
   "outputs": [
    {
     "data": {
      "text/html": [
       "<div>\n",
       "<style scoped>\n",
       "    .dataframe tbody tr th:only-of-type {\n",
       "        vertical-align: middle;\n",
       "    }\n",
       "\n",
       "    .dataframe tbody tr th {\n",
       "        vertical-align: top;\n",
       "    }\n",
       "\n",
       "    .dataframe thead th {\n",
       "        text-align: right;\n",
       "    }\n",
       "</style>\n",
       "<table border=\"1\" class=\"dataframe\">\n",
       "  <thead>\n",
       "    <tr style=\"text-align: right;\">\n",
       "      <th></th>\n",
       "      <th>Runtime</th>\n",
       "    </tr>\n",
       "  </thead>\n",
       "  <tbody>\n",
       "    <tr>\n",
       "      <th>0</th>\n",
       "      <td>100</td>\n",
       "    </tr>\n",
       "    <tr>\n",
       "      <th>1</th>\n",
       "      <td>70</td>\n",
       "    </tr>\n",
       "    <tr>\n",
       "      <th>2</th>\n",
       "      <td>90</td>\n",
       "    </tr>\n",
       "    <tr>\n",
       "      <th>3</th>\n",
       "      <td>120</td>\n",
       "    </tr>\n",
       "    <tr>\n",
       "      <th>4</th>\n",
       "      <td>58</td>\n",
       "    </tr>\n",
       "    <tr>\n",
       "      <th>...</th>\n",
       "      <td>...</td>\n",
       "    </tr>\n",
       "    <tr>\n",
       "      <th>387893</th>\n",
       "      <td>123</td>\n",
       "    </tr>\n",
       "    <tr>\n",
       "      <th>387894</th>\n",
       "      <td>57</td>\n",
       "    </tr>\n",
       "    <tr>\n",
       "      <th>387895</th>\n",
       "      <td>100</td>\n",
       "    </tr>\n",
       "    <tr>\n",
       "      <th>387896</th>\n",
       "      <td>116</td>\n",
       "    </tr>\n",
       "    <tr>\n",
       "      <th>387897</th>\n",
       "      <td>49</td>\n",
       "    </tr>\n",
       "  </tbody>\n",
       "</table>\n",
       "<p>387898 rows × 1 columns</p>\n",
       "</div>"
      ],
      "text/plain": [
       "        Runtime\n",
       "0           100\n",
       "1            70\n",
       "2            90\n",
       "3           120\n",
       "4            58\n",
       "...         ...\n",
       "387893      123\n",
       "387894       57\n",
       "387895      100\n",
       "387896      116\n",
       "387897       49\n",
       "\n",
       "[387898 rows x 1 columns]"
      ]
     },
     "metadata": {},
     "output_type": "display_data"
    }
   ],
   "source": [
    "display(resultado6)"
   ]
  },
  {
   "cell_type": "code",
   "execution_count": 82,
   "metadata": {
    "colab": {
     "base_uri": "https://localhost:8080/"
    },
    "executionInfo": {
     "elapsed": 15,
     "status": "ok",
     "timestamp": 1622095194538,
     "user": {
      "displayName": "Utkarsh Sinha",
      "photoUrl": "",
      "userId": "11911393678467085382"
     },
     "user_tz": -330
    },
    "id": "TTu1QGec4wgb",
    "outputId": "3d8b9dc8-0d36-4e76-bbed-706aacb02b0d"
   },
   "outputs": [
    {
     "name": "stdout",
     "output_type": "stream",
     "text": [
      "0 percentil da duração (runtime) é: 1.0\n",
      "1 percentil da duração (runtime) é: 45.0\n",
      "2 percentil da duração (runtime) é: 47.0\n",
      "3 percentil da duração (runtime) é: 50.0\n",
      "4 percentil da duração (runtime) é: 50.0\n",
      "5 percentil da duração (runtime) é: 51.0\n",
      "6 percentil da duração (runtime) é: 52.0\n",
      "7 percentil da duração (runtime) é: 53.0\n",
      "8 percentil da duração (runtime) é: 55.0\n",
      "9 percentil da duração (runtime) é: 56.0\n",
      "10 percentil da duração (runtime) é: 57.0\n",
      "11 percentil da duração (runtime) é: 58.0\n",
      "12 percentil da duração (runtime) é: 60.0\n",
      "13 percentil da duração (runtime) é: 60.0\n",
      "14 percentil da duração (runtime) é: 60.0\n",
      "15 percentil da duração (runtime) é: 61.0\n",
      "16 percentil da duração (runtime) é: 62.0\n",
      "17 percentil da duração (runtime) é: 64.0\n",
      "18 percentil da duração (runtime) é: 65.0\n",
      "19 percentil da duração (runtime) é: 67.0\n",
      "20 percentil da duração (runtime) é: 69.0\n",
      "21 percentil da duração (runtime) é: 70.0\n",
      "22 percentil da duração (runtime) é: 70.0\n",
      "23 percentil da duração (runtime) é: 71.0\n",
      "24 percentil da duração (runtime) é: 72.0\n",
      "25 percentil da duração (runtime) é: 73.0\n",
      "26 percentil da duração (runtime) é: 75.0\n",
      "27 percentil da duração (runtime) é: 75.0\n",
      "28 percentil da duração (runtime) é: 76.0\n",
      "29 percentil da duração (runtime) é: 77.0\n",
      "30 percentil da duração (runtime) é: 78.0\n",
      "31 percentil da duração (runtime) é: 78.0\n",
      "32 percentil da duração (runtime) é: 79.0\n",
      "33 percentil da duração (runtime) é: 80.0\n",
      "34 percentil da duração (runtime) é: 80.0\n",
      "35 percentil da duração (runtime) é: 80.0\n",
      "36 percentil da duração (runtime) é: 81.0\n",
      "37 percentil da duração (runtime) é: 82.0\n",
      "38 percentil da duração (runtime) é: 83.0\n",
      "39 percentil da duração (runtime) é: 83.0\n",
      "40 percentil da duração (runtime) é: 84.0\n",
      "41 percentil da duração (runtime) é: 85.0\n",
      "42 percentil da duração (runtime) é: 85.0\n",
      "43 percentil da duração (runtime) é: 85.0\n",
      "44 percentil da duração (runtime) é: 86.0\n",
      "45 percentil da duração (runtime) é: 86.0\n",
      "46 percentil da duração (runtime) é: 87.0\n",
      "47 percentil da duração (runtime) é: 87.0\n",
      "48 percentil da duração (runtime) é: 88.0\n",
      "49 percentil da duração (runtime) é: 88.0\n",
      "50 percentil da duração (runtime) é: 89.0\n",
      "51 percentil da duração (runtime) é: 89.0\n",
      "52 percentil da duração (runtime) é: 90.0\n",
      "53 percentil da duração (runtime) é: 90.0\n",
      "54 percentil da duração (runtime) é: 90.0\n",
      "55 percentil da duração (runtime) é: 90.0\n",
      "56 percentil da duração (runtime) é: 90.0\n",
      "57 percentil da duração (runtime) é: 90.0\n",
      "58 percentil da duração (runtime) é: 91.0\n",
      "59 percentil da duração (runtime) é: 91.0\n",
      "60 percentil da duração (runtime) é: 92.0\n",
      "61 percentil da duração (runtime) é: 92.0\n",
      "62 percentil da duração (runtime) é: 93.0\n",
      "63 percentil da duração (runtime) é: 93.0\n",
      "64 percentil da duração (runtime) é: 94.0\n",
      "65 percentil da duração (runtime) é: 94.0\n",
      "66 percentil da duração (runtime) é: 95.0\n",
      "67 percentil da duração (runtime) é: 95.0\n",
      "68 percentil da duração (runtime) é: 96.0\n",
      "69 percentil da duração (runtime) é: 96.0\n",
      "70 percentil da duração (runtime) é: 97.0\n",
      "71 percentil da duração (runtime) é: 98.0\n",
      "72 percentil da duração (runtime) é: 98.0\n",
      "73 percentil da duração (runtime) é: 99.0\n",
      "74 percentil da duração (runtime) é: 100.0\n",
      "75 percentil da duração (runtime) é: 100.0\n",
      "76 percentil da duração (runtime) é: 100.0\n",
      "77 percentil da duração (runtime) é: 101.0\n",
      "78 percentil da duração (runtime) é: 102.0\n",
      "79 percentil da duração (runtime) é: 103.0\n",
      "80 percentil da duração (runtime) é: 104.0\n",
      "81 percentil da duração (runtime) é: 105.0\n",
      "82 percentil da duração (runtime) é: 106.0\n",
      "83 percentil da duração (runtime) é: 107.0\n",
      "84 percentil da duração (runtime) é: 108.0\n",
      "85 percentil da duração (runtime) é: 110.0\n",
      "86 percentil da duração (runtime) é: 111.0\n",
      "87 percentil da duração (runtime) é: 112.0\n",
      "88 percentil da duração (runtime) é: 115.0\n",
      "89 percentil da duração (runtime) é: 117.0\n",
      "90 percentil da duração (runtime) é: 119.0\n",
      "91 percentil da duração (runtime) é: 120.0\n",
      "92 percentil da duração (runtime) é: 123.0\n",
      "93 percentil da duração (runtime) é: 126.0\n",
      "94 percentil da duração (runtime) é: 130.0\n",
      "95 percentil da duração (runtime) é: 135.0\n",
      "96 percentil da duração (runtime) é: 139.0\n",
      "97 percentil da duração (runtime) é: 145.0\n",
      "98 percentil da duração (runtime) é: 153.0\n",
      "99 percentil da duração (runtime) é: 168.0\n",
      "100 percentil da duração (runtime) é: 51420.0\n"
     ]
    }
   ],
   "source": [
    "# Loop for calculating percentiles\n",
    "for i in range(101): \n",
    "    val = i\n",
    "    perc = round(np.percentile(resultado6['Runtime'].values, val), 2)\n",
    "    print('{} percentil da duração (runtime) é: {}'.format(val, perc))"
   ]
  },
  {
   "cell_type": "code",
   "execution_count": 83,
   "metadata": {
    "id": "QsG590nIag_h"
   },
   "outputs": [],
   "source": [
    "# Redoing the query and returning the movie with the longest duration\n",
    "consulta6 = '''\n",
    "            SELECT runtime_minutes Runtime, primary_title\n",
    "            FROM titles \n",
    "            WHERE type = 'movie' AND Runtime != 'NaN'\n",
    "            ORDER BY Runtime DESC\n",
    "            LIMIT 1\n",
    "            ''' "
   ]
  },
  {
   "cell_type": "code",
   "execution_count": 84,
   "metadata": {},
   "outputs": [],
   "source": [
    "resultado6 = pd.read_sql_query(consulta6, conn)"
   ]
  },
  {
   "cell_type": "code",
   "execution_count": 85,
   "metadata": {
    "colab": {
     "base_uri": "https://localhost:8080/",
     "height": 77
    },
    "executionInfo": {
     "elapsed": 22,
     "status": "ok",
     "timestamp": 1622095429610,
     "user": {
      "displayName": "Utkarsh Sinha",
      "photoUrl": "",
      "userId": "11911393678467085382"
     },
     "user_tz": -330
    },
    "id": "GiXWo7tBaqhZ",
    "outputId": "ae7656fe-6ba5-43dd-d4ae-5a39cac5b120"
   },
   "outputs": [
    {
     "data": {
      "text/html": [
       "<div>\n",
       "<style scoped>\n",
       "    .dataframe tbody tr th:only-of-type {\n",
       "        vertical-align: middle;\n",
       "    }\n",
       "\n",
       "    .dataframe tbody tr th {\n",
       "        vertical-align: top;\n",
       "    }\n",
       "\n",
       "    .dataframe thead th {\n",
       "        text-align: right;\n",
       "    }\n",
       "</style>\n",
       "<table border=\"1\" class=\"dataframe\">\n",
       "  <thead>\n",
       "    <tr style=\"text-align: right;\">\n",
       "      <th></th>\n",
       "      <th>Runtime</th>\n",
       "      <th>primary_title</th>\n",
       "    </tr>\n",
       "  </thead>\n",
       "  <tbody>\n",
       "    <tr>\n",
       "      <th>0</th>\n",
       "      <td>51420</td>\n",
       "      <td>Logistics</td>\n",
       "    </tr>\n",
       "  </tbody>\n",
       "</table>\n",
       "</div>"
      ],
      "text/plain": [
       "   Runtime primary_title\n",
       "0    51420     Logistics"
      ]
     },
     "execution_count": 85,
     "metadata": {},
     "output_type": "execute_result"
    }
   ],
   "source": [
    "resultado6"
   ]
  },
  {
   "cell_type": "markdown",
   "metadata": {
    "id": "Ho17U3IbcieL"
   },
   "source": [
    "'Logistics' is the longest film in history (up to this point), with 857 hours (51420 minutes). Directed by Daniel Andersson and Erika Magnusson, the movie follows the entire life cycle of a pedometer (step tracking device) in reverse chronological order."
   ]
  },
  {
   "cell_type": "markdown",
   "metadata": {
    "id": "Z4O4rDdHy7oO"
   },
   "source": [
    "## 7- What is the Relationship Between Duration and Genre?"
   ]
  },
  {
   "cell_type": "code",
   "execution_count": 86,
   "metadata": {
    "id": "0kc8MHtUledj"
   },
   "outputs": [],
   "source": [
    "# SQL Query\n",
    "consulta7 = '''\n",
    "            SELECT AVG(runtime_minutes) Runtime, genres \n",
    "            FROM titles \n",
    "            WHERE type = 'movie'\n",
    "            AND runtime_minutes != 'NaN'\n",
    "            GROUP BY genres\n",
    "            ''' "
   ]
  },
  {
   "cell_type": "code",
   "execution_count": 87,
   "metadata": {},
   "outputs": [],
   "source": [
    "# Result\n",
    "resultado7 = pd.read_sql_query(consulta7, conn)"
   ]
  },
  {
   "cell_type": "code",
   "execution_count": 88,
   "metadata": {
    "id": "0rzN-DAm5mwA"
   },
   "outputs": [],
   "source": [
    "# Returns unique genres\n",
    "generos_unicos = retorna_generos(resultado7)"
   ]
  },
  {
   "cell_type": "code",
   "execution_count": 89,
   "metadata": {},
   "outputs": [
    {
     "data": {
      "text/plain": [
       "['action',\n",
       " 'adult',\n",
       " 'adventure',\n",
       " 'animation',\n",
       " 'biography',\n",
       " 'comedy',\n",
       " 'crime',\n",
       " 'documentary',\n",
       " 'drama',\n",
       " 'family',\n",
       " 'fantasy',\n",
       " 'film-noir',\n",
       " 'game-show',\n",
       " 'history',\n",
       " 'horror',\n",
       " 'music',\n",
       " 'musical',\n",
       " 'mystery',\n",
       " 'news',\n",
       " 'reality-tv',\n",
       " 'romance',\n",
       " 'sci-fi',\n",
       " 'short',\n",
       " 'sport',\n",
       " 'talk-show',\n",
       " 'thriller',\n",
       " 'war',\n",
       " 'western']"
      ]
     },
     "execution_count": 89,
     "metadata": {},
     "output_type": "execute_result"
    }
   ],
   "source": [
    "# View\n",
    "generos_unicos"
   ]
  },
  {
   "cell_type": "code",
   "execution_count": 90,
   "metadata": {
    "id": "8f79NjxwEdA4"
   },
   "outputs": [],
   "source": [
    "# Calculate duration by gender\n",
    "genero_runtime = []\n",
    "for item in generos_unicos:\n",
    "    consulta = 'SELECT runtime_minutes Runtime FROM  titles  WHERE genres LIKE '+ '\\''+'%'+item+'%'+'\\' AND type=\\'movie\\' AND Runtime!=\\'NaN\\''\n",
    "    resultado = pd.read_sql_query(consulta, conn)\n",
    "    genero_runtime.append(np.median(resultado['Runtime']))"
   ]
  },
  {
   "cell_type": "code",
   "execution_count": 91,
   "metadata": {
    "id": "bW5jRTqyG5s1"
   },
   "outputs": [],
   "source": [
    "# Prepare the dataframe\n",
    "df_genero_runtime = pd.DataFrame()\n",
    "df_genero_runtime['genre'] = generos_unicos\n",
    "df_genero_runtime['runtime'] = genero_runtime"
   ]
  },
  {
   "cell_type": "code",
   "execution_count": 92,
   "metadata": {
    "id": "q03CMhQwHTXs"
   },
   "outputs": [],
   "source": [
    "# Remove index 18 (news)\n",
    "df_genero_runtime = df_genero_runtime.drop(index = 18)"
   ]
  },
  {
   "cell_type": "code",
   "execution_count": 93,
   "metadata": {
    "id": "xa6O1pozHfEH"
   },
   "outputs": [],
   "source": [
    "# Data ordering\n",
    "df_genero_runtime = df_genero_runtime.sort_values(by = 'runtime', ascending = False)"
   ]
  },
  {
   "cell_type": "code",
   "execution_count": 95,
   "metadata": {
    "colab": {
     "base_uri": "https://localhost:8080/",
     "height": 497
    },
    "executionInfo": {
     "elapsed": 902,
     "status": "ok",
     "timestamp": 1622096440987,
     "user": {
      "displayName": "Utkarsh Sinha",
      "photoUrl": "",
      "userId": "11911393678467085382"
     },
     "user_tz": -330
    },
    "id": "AKKU1iTHH19k",
    "outputId": "115ea1e7-7e87-4332-a92a-8851c8081c28"
   },
   "outputs": [
    {
     "data": {
      "image/png": "[encoded data removed]",
      "text/plain": [
       "<Figure size 1152x576 with 1 Axes>"
      ]
     },
     "metadata": {},
     "output_type": "display_data"
    }
   ],
   "source": [
    "# Plot\n",
    "\n",
    "# Image size\n",
    "plt.figure(figsize = (16,8))\n",
    "\n",
    "# Barplot\n",
    "sns.barplot(y = df_genero_runtime.genre, x = df_genero_runtime.runtime, orient = \"h\")\n",
    "\n",
    "# Loop\n",
    "for i in range(len(df_genero_runtime.index)):\n",
    "    plt.text(df_genero_runtime.runtime[df_genero_runtime.index[i]],\n",
    "             i + 0.25,\n",
    "             round(df_genero_runtime[\"runtime\"][df_genero_runtime.index[i]], 2))\n",
    "\n",
    "plt.ylabel('Genre')             \n",
    "plt.xlabel('\\nMedian Duration Time (Minutes)')\n",
    "plt.title('\\nRelationship Between Duration and Genre\\n')\n",
    "plt.show()"
   ]
  },
  {
   "cell_type": "markdown",
   "metadata": {
    "id": "t6ScDbBNzblj"
   },
   "source": [
    "## 8- What is the Number of Movies Produced by Country?"
   ]
  },
  {
   "cell_type": "code",
   "execution_count": 96,
   "metadata": {
    "colab": {
     "base_uri": "https://localhost:8080/",
     "height": 402
    },
    "executionInfo": {
     "elapsed": 29930,
     "status": "ok",
     "timestamp": 1621952554276,
     "user": {
      "displayName": "Utkarsh Sinha",
      "photoUrl": "",
      "userId": "11911393678467085382"
     },
     "user_tz": -330
    },
    "id": "xit2KSBiLOdf",
    "outputId": "8d660d13-8a78-400e-d827-944ca8ec9802"
   },
   "outputs": [],
   "source": [
    "# SQL Query\n",
    "consulta8 = '''\n",
    "            SELECT region, COUNT(*) Number_of_movies FROM \n",
    "            akas JOIN titles ON \n",
    "            akas.title_id = titles.title_id\n",
    "            WHERE region != 'None'\n",
    "            AND type = \\'movie\\'\n",
    "            GROUP BY region\n",
    "            ''' "
   ]
  },
  {
   "cell_type": "code",
   "execution_count": 97,
   "metadata": {},
   "outputs": [],
   "source": [
    "# Result\n",
    "resultado8 = pd.read_sql_query(consulta8, conn)"
   ]
  },
  {
   "cell_type": "code",
   "execution_count": 98,
   "metadata": {},
   "outputs": [
    {
     "data": {
      "text/html": [
       "<div>\n",
       "<style scoped>\n",
       "    .dataframe tbody tr th:only-of-type {\n",
       "        vertical-align: middle;\n",
       "    }\n",
       "\n",
       "    .dataframe tbody tr th {\n",
       "        vertical-align: top;\n",
       "    }\n",
       "\n",
       "    .dataframe thead th {\n",
       "        text-align: right;\n",
       "    }\n",
       "</style>\n",
       "<table border=\"1\" class=\"dataframe\">\n",
       "  <thead>\n",
       "    <tr style=\"text-align: right;\">\n",
       "      <th></th>\n",
       "      <th>region</th>\n",
       "      <th>Number_of_movies</th>\n",
       "    </tr>\n",
       "  </thead>\n",
       "  <tbody>\n",
       "    <tr>\n",
       "      <th>0</th>\n",
       "      <td>AD</td>\n",
       "      <td>22</td>\n",
       "    </tr>\n",
       "    <tr>\n",
       "      <th>1</th>\n",
       "      <td>AE</td>\n",
       "      <td>6853</td>\n",
       "    </tr>\n",
       "    <tr>\n",
       "      <th>2</th>\n",
       "      <td>AF</td>\n",
       "      <td>114</td>\n",
       "    </tr>\n",
       "    <tr>\n",
       "      <th>3</th>\n",
       "      <td>AG</td>\n",
       "      <td>12</td>\n",
       "    </tr>\n",
       "    <tr>\n",
       "      <th>4</th>\n",
       "      <td>AL</td>\n",
       "      <td>1290</td>\n",
       "    </tr>\n",
       "    <tr>\n",
       "      <th>...</th>\n",
       "      <td>...</td>\n",
       "      <td>...</td>\n",
       "    </tr>\n",
       "    <tr>\n",
       "      <th>229</th>\n",
       "      <td>YUCS</td>\n",
       "      <td>153</td>\n",
       "    </tr>\n",
       "    <tr>\n",
       "      <th>230</th>\n",
       "      <td>ZA</td>\n",
       "      <td>5125</td>\n",
       "    </tr>\n",
       "    <tr>\n",
       "      <th>231</th>\n",
       "      <td>ZM</td>\n",
       "      <td>15</td>\n",
       "    </tr>\n",
       "    <tr>\n",
       "      <th>232</th>\n",
       "      <td>ZRCD</td>\n",
       "      <td>2</td>\n",
       "    </tr>\n",
       "    <tr>\n",
       "      <th>233</th>\n",
       "      <td>ZW</td>\n",
       "      <td>52</td>\n",
       "    </tr>\n",
       "  </tbody>\n",
       "</table>\n",
       "<p>234 rows × 2 columns</p>\n",
       "</div>"
      ],
      "text/plain": [
       "    region  Number_of_movies\n",
       "0       AD                22\n",
       "1       AE              6853\n",
       "2       AF               114\n",
       "3       AG                12\n",
       "4       AL              1290\n",
       "..     ...               ...\n",
       "229   YUCS               153\n",
       "230     ZA              5125\n",
       "231     ZM                15\n",
       "232   ZRCD                 2\n",
       "233     ZW                52\n",
       "\n",
       "[234 rows x 2 columns]"
      ]
     },
     "metadata": {},
     "output_type": "display_data"
    }
   ],
   "source": [
    "display(resultado8)"
   ]
  },
  {
   "cell_type": "code",
   "execution_count": 99,
   "metadata": {},
   "outputs": [
    {
     "data": {
      "text/plain": [
       "(234, 2)"
      ]
     },
     "execution_count": 99,
     "metadata": {},
     "output_type": "execute_result"
    }
   ],
   "source": [
    "# Shape\n",
    "resultado8.shape"
   ]
  },
  {
   "cell_type": "code",
   "execution_count": 100,
   "metadata": {},
   "outputs": [
    {
     "data": {
      "text/plain": [
       "234"
      ]
     },
     "execution_count": 100,
     "metadata": {},
     "output_type": "execute_result"
    }
   ],
   "source": [
    "# Number of Lines\n",
    "resultado8.shape[0]"
   ]
  },
  {
   "cell_type": "code",
   "execution_count": 101,
   "metadata": {},
   "outputs": [],
   "source": [
    "# Auxiliary lists\n",
    "nomes_paises = []\n",
    "contagem = []"
   ]
  },
  {
   "cell_type": "code",
   "execution_count": 103,
   "metadata": {
    "id": "y0EiQBfgNEgb"
   },
   "outputs": [],
   "source": [
    "# Loop to get country according to region\n",
    "for i in range(resultado8.shape[0]):\n",
    "    try:\n",
    "        coun = resultado8['region'].values[i]\n",
    "        nomes_paises.append(pycountry.countries.get(alpha_2 = coun).name)\n",
    "        contagem.append(resultado8['Number_of_movies'].values[i])\n",
    "    except: \n",
    "        continue"
   ]
  },
  {
   "cell_type": "code",
   "execution_count": 104,
   "metadata": {
    "id": "Ke69xq96Oeeu"
   },
   "outputs": [],
   "source": [
    "# Preparing the dataframe\n",
    "df_filmes_paises = pd.DataFrame()\n",
    "df_filmes_paises['country'] = nomes_paises\n",
    "df_filmes_paises['Movie_Count'] = contagem"
   ]
  },
  {
   "cell_type": "code",
   "execution_count": 105,
   "metadata": {
    "id": "RyaO-hmNOxv-"
   },
   "outputs": [],
   "source": [
    "# Order the result\n",
    "df_filmes_paises = df_filmes_paises.sort_values(by = 'Movie_Count', ascending = False)"
   ]
  },
  {
   "cell_type": "code",
   "execution_count": 106,
   "metadata": {},
   "outputs": [
    {
     "data": {
      "text/html": [
       "<div>\n",
       "<style scoped>\n",
       "    .dataframe tbody tr th:only-of-type {\n",
       "        vertical-align: middle;\n",
       "    }\n",
       "\n",
       "    .dataframe tbody tr th {\n",
       "        vertical-align: top;\n",
       "    }\n",
       "\n",
       "    .dataframe thead th {\n",
       "        text-align: right;\n",
       "    }\n",
       "</style>\n",
       "<table border=\"1\" class=\"dataframe\">\n",
       "  <thead>\n",
       "    <tr style=\"text-align: right;\">\n",
       "      <th></th>\n",
       "      <th>country</th>\n",
       "      <th>Movie_Count</th>\n",
       "    </tr>\n",
       "  </thead>\n",
       "  <tbody>\n",
       "    <tr>\n",
       "      <th>412</th>\n",
       "      <td>United States</td>\n",
       "      <td>314697</td>\n",
       "    </tr>\n",
       "    <tr>\n",
       "      <th>199</th>\n",
       "      <td>United States</td>\n",
       "      <td>314697</td>\n",
       "    </tr>\n",
       "    <tr>\n",
       "      <th>65</th>\n",
       "      <td>United Kingdom</td>\n",
       "      <td>160704</td>\n",
       "    </tr>\n",
       "    <tr>\n",
       "      <th>278</th>\n",
       "      <td>United Kingdom</td>\n",
       "      <td>160704</td>\n",
       "    </tr>\n",
       "    <tr>\n",
       "      <th>96</th>\n",
       "      <td>Japan</td>\n",
       "      <td>92132</td>\n",
       "    </tr>\n",
       "    <tr>\n",
       "      <th>309</th>\n",
       "      <td>Japan</td>\n",
       "      <td>92132</td>\n",
       "    </tr>\n",
       "    <tr>\n",
       "      <th>63</th>\n",
       "      <td>France</td>\n",
       "      <td>85655</td>\n",
       "    </tr>\n",
       "    <tr>\n",
       "      <th>276</th>\n",
       "      <td>France</td>\n",
       "      <td>85655</td>\n",
       "    </tr>\n",
       "    <tr>\n",
       "      <th>89</th>\n",
       "      <td>India</td>\n",
       "      <td>83612</td>\n",
       "    </tr>\n",
       "    <tr>\n",
       "      <th>302</th>\n",
       "      <td>India</td>\n",
       "      <td>83612</td>\n",
       "    </tr>\n",
       "  </tbody>\n",
       "</table>\n",
       "</div>"
      ],
      "text/plain": [
       "            country  Movie_Count\n",
       "412   United States       314697\n",
       "199   United States       314697\n",
       "65   United Kingdom       160704\n",
       "278  United Kingdom       160704\n",
       "96            Japan        92132\n",
       "309           Japan        92132\n",
       "63           France        85655\n",
       "276          France        85655\n",
       "89            India        83612\n",
       "302           India        83612"
      ]
     },
     "execution_count": 106,
     "metadata": {},
     "output_type": "execute_result"
    }
   ],
   "source": [
    "# View\n",
    "df_filmes_paises.head(10)"
   ]
  },
  {
   "cell_type": "code",
   "execution_count": 108,
   "metadata": {
    "colab": {
     "base_uri": "https://localhost:8080/",
     "height": 446
    },
    "executionInfo": {
     "elapsed": 1725,
     "status": "ok",
     "timestamp": 1621952785166,
     "user": {
      "displayName": "Utkarsh Sinha",
      "photoUrl": "",
      "userId": "11911393678467085382"
     },
     "user_tz": -330
    },
    "id": "9vLWE-JaPB8K",
    "outputId": "f738f6a3-4128-469f-c772-bbd2614d8caf"
   },
   "outputs": [
    {
     "data": {
      "image/png": "[encoded data removed]",
      "text/plain": [
       "<Figure size 1440x576 with 1 Axes>"
      ]
     },
     "metadata": {},
     "output_type": "display_data"
    }
   ],
   "source": [
    "# Plot\n",
    "\n",
    "# Figure\n",
    "plt.figure(figsize = (20,8))\n",
    "\n",
    "# Barplot\n",
    "sns.barplot(y = df_filmes_paises[:20].country, x = df_filmes_paises[:20].Movie_Count, orient = \"h\")\n",
    "\n",
    "# Loop\n",
    "for i in range(0,20):\n",
    "    plt.text(df_filmes_paises.Movie_Count[df_filmes_paises.index[i]]-1,\n",
    "             i + 0.30,\n",
    "             round(df_filmes_paises[\"Movie_Count\"][df_filmes_paises.index[i]],2))\n",
    "\n",
    "plt.ylabel('Country')             \n",
    "plt.xlabel('\\nNumber of Movies')\n",
    "plt.title('\\nNumber of Movies Produced By Country\\n')\n",
    "plt.show()"
   ]
  },
  {
   "cell_type": "markdown",
   "metadata": {
    "id": "szAHC3FEyoiv"
   },
   "source": [
    "## 9- What Are the Top 10 Best Movies?"
   ]
  },
  {
   "cell_type": "code",
   "execution_count": 109,
   "metadata": {
    "colab": {
     "base_uri": "https://localhost:8080/",
     "height": 343
    },
    "executionInfo": {
     "elapsed": 1249,
     "status": "ok",
     "timestamp": 1621952795722,
     "user": {
      "displayName": "Utkarsh Sinha",
      "photoUrl": "",
      "userId": "11911393678467085382"
     },
     "user_tz": -330
    },
    "id": "b4IB3sTJiStg",
    "outputId": "b8f85ad1-c741-4883-81ad-6e56aa690ba0"
   },
   "outputs": [],
   "source": [
    "# SQL Query\n",
    "consulta9 = '''\n",
    "            SELECT primary_title AS Movie_Name, genres, rating\n",
    "            FROM \n",
    "            titles JOIN ratings\n",
    "            ON  titles.title_id = ratings.title_id\n",
    "            WHERE titles.type = 'movie' AND ratings.votes >= 25000\n",
    "            ORDER BY rating DESC\n",
    "            LIMIT 10          \n",
    "            ''' "
   ]
  },
  {
   "cell_type": "code",
   "execution_count": 110,
   "metadata": {},
   "outputs": [],
   "source": [
    "# Result\n",
    "top10_melhores_filmes = pd.read_sql_query(consulta9, conn)"
   ]
  },
  {
   "cell_type": "code",
   "execution_count": 111,
   "metadata": {},
   "outputs": [
    {
     "data": {
      "text/html": [
       "<div>\n",
       "<style scoped>\n",
       "    .dataframe tbody tr th:only-of-type {\n",
       "        vertical-align: middle;\n",
       "    }\n",
       "\n",
       "    .dataframe tbody tr th {\n",
       "        vertical-align: top;\n",
       "    }\n",
       "\n",
       "    .dataframe thead th {\n",
       "        text-align: right;\n",
       "    }\n",
       "</style>\n",
       "<table border=\"1\" class=\"dataframe\">\n",
       "  <thead>\n",
       "    <tr style=\"text-align: right;\">\n",
       "      <th></th>\n",
       "      <th>Movie_Name</th>\n",
       "      <th>genres</th>\n",
       "      <th>rating</th>\n",
       "    </tr>\n",
       "  </thead>\n",
       "  <tbody>\n",
       "    <tr>\n",
       "      <th>0</th>\n",
       "      <td>The Shawshank Redemption</td>\n",
       "      <td>Drama</td>\n",
       "      <td>9.3</td>\n",
       "    </tr>\n",
       "    <tr>\n",
       "      <th>1</th>\n",
       "      <td>The Chaos Class</td>\n",
       "      <td>Comedy,Drama</td>\n",
       "      <td>9.3</td>\n",
       "    </tr>\n",
       "    <tr>\n",
       "      <th>2</th>\n",
       "      <td>The Godfather</td>\n",
       "      <td>Crime,Drama</td>\n",
       "      <td>9.2</td>\n",
       "    </tr>\n",
       "    <tr>\n",
       "      <th>3</th>\n",
       "      <td>CM101MMXI Fundamentals</td>\n",
       "      <td>Comedy,Documentary</td>\n",
       "      <td>9.1</td>\n",
       "    </tr>\n",
       "    <tr>\n",
       "      <th>4</th>\n",
       "      <td>12 Angry Men</td>\n",
       "      <td>Crime,Drama</td>\n",
       "      <td>9.0</td>\n",
       "    </tr>\n",
       "    <tr>\n",
       "      <th>5</th>\n",
       "      <td>The Godfather: Part II</td>\n",
       "      <td>Crime,Drama</td>\n",
       "      <td>9.0</td>\n",
       "    </tr>\n",
       "    <tr>\n",
       "      <th>6</th>\n",
       "      <td>Schindler's List</td>\n",
       "      <td>Biography,Drama,History</td>\n",
       "      <td>9.0</td>\n",
       "    </tr>\n",
       "    <tr>\n",
       "      <th>7</th>\n",
       "      <td>The Lord of the Rings: The Return of the King</td>\n",
       "      <td>Action,Adventure,Drama</td>\n",
       "      <td>9.0</td>\n",
       "    </tr>\n",
       "    <tr>\n",
       "      <th>8</th>\n",
       "      <td>The Dark Knight</td>\n",
       "      <td>Action,Crime,Drama</td>\n",
       "      <td>9.0</td>\n",
       "    </tr>\n",
       "    <tr>\n",
       "      <th>9</th>\n",
       "      <td>Mirror Game</td>\n",
       "      <td>Crime,Mystery,Thriller</td>\n",
       "      <td>9.0</td>\n",
       "    </tr>\n",
       "  </tbody>\n",
       "</table>\n",
       "</div>"
      ],
      "text/plain": [
       "                                      Movie_Name                   genres  \\\n",
       "0                       The Shawshank Redemption                    Drama   \n",
       "1                                The Chaos Class             Comedy,Drama   \n",
       "2                                  The Godfather              Crime,Drama   \n",
       "3                         CM101MMXI Fundamentals       Comedy,Documentary   \n",
       "4                                   12 Angry Men              Crime,Drama   \n",
       "5                         The Godfather: Part II              Crime,Drama   \n",
       "6                               Schindler's List  Biography,Drama,History   \n",
       "7  The Lord of the Rings: The Return of the King   Action,Adventure,Drama   \n",
       "8                                The Dark Knight       Action,Crime,Drama   \n",
       "9                                    Mirror Game   Crime,Mystery,Thriller   \n",
       "\n",
       "   rating  \n",
       "0     9.3  \n",
       "1     9.3  \n",
       "2     9.2  \n",
       "3     9.1  \n",
       "4     9.0  \n",
       "5     9.0  \n",
       "6     9.0  \n",
       "7     9.0  \n",
       "8     9.0  \n",
       "9     9.0  "
      ]
     },
     "metadata": {},
     "output_type": "display_data"
    }
   ],
   "source": [
    "display(top10_melhores_filmes)"
   ]
  },
  {
   "cell_type": "markdown",
   "metadata": {},
   "source": [
    "## 10- What are the Top 10 Worst Movies?"
   ]
  },
  {
   "cell_type": "code",
   "execution_count": 112,
   "metadata": {
    "colab": {
     "base_uri": "https://localhost:8080/",
     "height": 343
    },
    "executionInfo": {
     "elapsed": 613,
     "status": "ok",
     "timestamp": 1621952796329,
     "user": {
      "displayName": "Utkarsh Sinha",
      "photoUrl": "",
      "userId": "11911393678467085382"
     },
     "user_tz": -330
    },
    "id": "xNkQXdifjWEF",
    "outputId": "16e506a2-6cfd-49e6-f67d-b0b3894e4ff4"
   },
   "outputs": [],
   "source": [
    "# SQL Query\n",
    "consulta10 = '''\n",
    "            SELECT primary_title AS Movie_Name, genres, rating\n",
    "            FROM \n",
    "            titles JOIN ratings\n",
    "            ON  titles.title_id = ratings.title_id\n",
    "            WHERE titles.type = 'movie' AND ratings.votes >= 25000\n",
    "            ORDER BY rating ASC\n",
    "            LIMIT 10\n",
    "            ''' "
   ]
  },
  {
   "cell_type": "code",
   "execution_count": 113,
   "metadata": {
    "id": "naOoI-IXfKSI"
   },
   "outputs": [],
   "source": [
    "# Result\n",
    "top10_piores_filmes = pd.read_sql_query(consulta10, conn)"
   ]
  },
  {
   "cell_type": "code",
   "execution_count": 114,
   "metadata": {},
   "outputs": [
    {
     "data": {
      "text/html": [
       "<div>\n",
       "<style scoped>\n",
       "    .dataframe tbody tr th:only-of-type {\n",
       "        vertical-align: middle;\n",
       "    }\n",
       "\n",
       "    .dataframe tbody tr th {\n",
       "        vertical-align: top;\n",
       "    }\n",
       "\n",
       "    .dataframe thead th {\n",
       "        text-align: right;\n",
       "    }\n",
       "</style>\n",
       "<table border=\"1\" class=\"dataframe\">\n",
       "  <thead>\n",
       "    <tr style=\"text-align: right;\">\n",
       "      <th></th>\n",
       "      <th>Movie_Name</th>\n",
       "      <th>genres</th>\n",
       "      <th>rating</th>\n",
       "    </tr>\n",
       "  </thead>\n",
       "  <tbody>\n",
       "    <tr>\n",
       "      <th>0</th>\n",
       "      <td>Reis</td>\n",
       "      <td>Biography,Drama</td>\n",
       "      <td>1.0</td>\n",
       "    </tr>\n",
       "    <tr>\n",
       "      <th>1</th>\n",
       "      <td>Cumali Ceber</td>\n",
       "      <td>Comedy</td>\n",
       "      <td>1.0</td>\n",
       "    </tr>\n",
       "    <tr>\n",
       "      <th>2</th>\n",
       "      <td>Sadak 2</td>\n",
       "      <td>Action,Drama</td>\n",
       "      <td>1.1</td>\n",
       "    </tr>\n",
       "    <tr>\n",
       "      <th>3</th>\n",
       "      <td>Smolensk</td>\n",
       "      <td>Drama,Thriller</td>\n",
       "      <td>1.2</td>\n",
       "    </tr>\n",
       "    <tr>\n",
       "      <th>4</th>\n",
       "      <td>Superbabies: Baby Geniuses 2</td>\n",
       "      <td>Comedy,Family,Sci-Fi</td>\n",
       "      <td>1.5</td>\n",
       "    </tr>\n",
       "    <tr>\n",
       "      <th>5</th>\n",
       "      <td>The Cost of Deception</td>\n",
       "      <td>Crime,Drama,History</td>\n",
       "      <td>1.5</td>\n",
       "    </tr>\n",
       "    <tr>\n",
       "      <th>6</th>\n",
       "      <td>Manos: The Hands of Fate</td>\n",
       "      <td>Horror</td>\n",
       "      <td>1.6</td>\n",
       "    </tr>\n",
       "    <tr>\n",
       "      <th>7</th>\n",
       "      <td>Justin Bieber: Never Say Never</td>\n",
       "      <td>Documentary,Music</td>\n",
       "      <td>1.6</td>\n",
       "    </tr>\n",
       "    <tr>\n",
       "      <th>8</th>\n",
       "      <td>From Justin to Kelly</td>\n",
       "      <td>Comedy,Musical,Romance</td>\n",
       "      <td>1.9</td>\n",
       "    </tr>\n",
       "    <tr>\n",
       "      <th>9</th>\n",
       "      <td>The Hottie &amp; the Nottie</td>\n",
       "      <td>Comedy,Romance</td>\n",
       "      <td>1.9</td>\n",
       "    </tr>\n",
       "  </tbody>\n",
       "</table>\n",
       "</div>"
      ],
      "text/plain": [
       "                       Movie_Name                  genres  rating\n",
       "0                            Reis         Biography,Drama     1.0\n",
       "1                    Cumali Ceber                  Comedy     1.0\n",
       "2                         Sadak 2            Action,Drama     1.1\n",
       "3                        Smolensk          Drama,Thriller     1.2\n",
       "4    Superbabies: Baby Geniuses 2    Comedy,Family,Sci-Fi     1.5\n",
       "5           The Cost of Deception     Crime,Drama,History     1.5\n",
       "6        Manos: The Hands of Fate                  Horror     1.6\n",
       "7  Justin Bieber: Never Say Never       Documentary,Music     1.6\n",
       "8            From Justin to Kelly  Comedy,Musical,Romance     1.9\n",
       "9         The Hottie & the Nottie          Comedy,Romance     1.9"
      ]
     },
     "metadata": {},
     "output_type": "display_data"
    }
   ],
   "source": [
    "display(top10_piores_filmes)"
   ]
  },
  {
   "cell_type": "markdown",
   "metadata": {},
   "source": [
    "The End\n",
    "Project Made following Data Science Academy Tutorials"
   ]
  }
 ],
 "metadata": {
  "colab": {
   "authorship_tag": "ABX9TyPgpy2v0symm6Hdd0+Ipzpu",
   "collapsed_sections": [
    "yebFAbpYviBJ",
    "m6W_XSp3yBSL",
    "CWF1erMywd2w",
    "jRKl5x8YxoXO",
    "V4RFdmlvsbgQ",
    "2F2Dmji2xR9v",
    "9U6CKRVVzF5O",
    "Z4O4rDdHy7oO"
   ],
   "name": "EDA_on_imdb_Utkarsh.ipynb",
   "provenance": [],
   "toc_visible": true
  },
  "kernelspec": {
   "display_name": "Python 3 (ipykernel)",
   "language": "python",
   "name": "python3"
  },
  "language_info": {
   "codemirror_mode": {
    "name": "ipython",
    "version": 3
   },
   "file_extension": ".py",
   "mimetype": "text/x-python",
   "name": "python",
   "nbconvert_exporter": "python",
   "pygments_lexer": "ipython3",
   "version": "3.9.7"
  }
 },
 "nbformat": 4,
 "nbformat_minor": 1
}
